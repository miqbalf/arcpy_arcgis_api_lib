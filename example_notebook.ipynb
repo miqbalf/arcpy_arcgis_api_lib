{
 "cells": [
  {
   "cell_type": "code",
   "id": "39ac9c6a",
   "metadata": {
    "ExecuteTime": {
     "end_time": "2025-10-16T06:01:23.275164Z",
     "start_time": "2025-10-16T06:01:23.271297Z"
    }
   },
   "source": [
    "# import sys\n",
    "# import warnings\n",
    "\n",
    "# # Handle ShimWarning import for different IPython versions\n",
    "# if 'IPython' in sys.modules:\n",
    "#     try:\n",
    "#         # For newer IPython versions (8.0+)\n",
    "#         from IPython.utils.shimmodule import ShimWarning\n",
    "#         warnings.filterwarnings(\"ignore\", category=ShimWarning)\n",
    "#     except ImportError:\n",
    "#         try:\n",
    "#             # For older IPython versions or alternative import paths\n",
    "#             from IPython.utils.warn import ShimWarning\n",
    "#             warnings.filterwarnings(\"ignore\", category=ShimWarning)\n",
    "#         except ImportError:\n",
    "#             # If ShimWarning is not available, just continue without filtering\n",
    "#             pass"
   ],
   "outputs": [],
   "execution_count": 1
  },
  {
   "cell_type": "code",
   "id": "acfccfd8-225e-4da2-bd58-d0156537e2f7",
   "metadata": {
    "ExecuteTime": {
     "end_time": "2025-10-16T06:01:23.610707Z",
     "start_time": "2025-10-16T06:01:23.607816Z"
    }
   },
   "source": [
    "# !conda env list"
   ],
   "outputs": [],
   "execution_count": 2
  },
  {
   "cell_type": "code",
   "id": "f9fbf43d",
   "metadata": {
    "ExecuteTime": {
     "end_time": "2025-10-16T06:01:23.654991Z",
     "start_time": "2025-10-16T06:01:23.646825Z"
    }
   },
   "source": [
    "# !pip install geopandas python-dotenv arcgis arcgis-mapping pandera openyxl"
   ],
   "outputs": [],
   "execution_count": 3
  },
  {
   "cell_type": "code",
   "id": "4b5efab5",
   "metadata": {
    "ExecuteTime": {
     "end_time": "2025-10-16T06:02:03.551288Z",
     "start_time": "2025-10-16T06:01:23.845460Z"
    }
   },
   "source": [
    "import os\n",
    "\n",
    "import xls_append\n",
    "# import arcgis\n",
    "from xls_append.main import ArcGISAPI\n",
    "from dotenv import load_dotenv\n",
    "\n",
    "load_dotenv()\n",
    "\n",
    "arc = ArcGISAPI()"
   ],
   "outputs": [
    {
     "name": "stderr",
     "output_type": "stream",
     "text": [
      "INFO:xls_append.utils:xls path is a URL, downloading file...\n",
      "INFO:xls_append.utils:Downloading file from url\n",
      "INFO:xls_append.utils:Successfully downloaded file to: /var/folders/rf/hnd8dn097rxbh6l24d20g27m0000gn/T/temp_pub\n",
      "INFO:xls_append.main:Successfully loaded XLS with 89281 rows and 16 columns\n",
      "INFO:xls_append.main:ArcGIS API initialized with lazy loading enabled\n"
     ]
    }
   ],
   "execution_count": 4
  },
  {
   "cell_type": "code",
   "id": "6b1d8c7500b8dd71",
   "metadata": {
    "ExecuteTime": {
     "end_time": "2025-10-16T06:02:03.558986Z",
     "start_time": "2025-10-16T06:02:03.556188Z"
    }
   },
   "source": [
    "# arc.cleanup()"
   ],
   "outputs": [],
   "execution_count": 5
  },
  {
   "cell_type": "code",
   "id": "63f9c79a",
   "metadata": {
    "ExecuteTime": {
     "end_time": "2025-10-16T06:02:03.591438Z",
     "start_time": "2025-10-16T06:02:03.588749Z"
    }
   },
   "source": [
    "# webmap_item = arc.get_webmap_item_query()\n",
    "# webmap_item"
   ],
   "outputs": [],
   "execution_count": 6
  },
  {
   "cell_type": "code",
   "id": "096e5b09",
   "metadata": {
    "ExecuteTime": {
     "end_time": "2025-10-16T06:02:03.602968Z",
     "start_time": "2025-10-16T06:02:03.599889Z"
    }
   },
   "source": [
    "# webmap_search = arc.webmap_search_data\n",
    "# webmap_search"
   ],
   "outputs": [],
   "execution_count": 7
  },
  {
   "cell_type": "code",
   "id": "3f471ca9-688c-4090-88f7-ae978addce4e",
   "metadata": {
    "ExecuteTime": {
     "end_time": "2025-10-16T06:02:03.613573Z",
     "start_time": "2025-10-16T06:02:03.610926Z"
    }
   },
   "source": [
    "# webmap_data= webmap_item.get_data()\n",
    "# webmap_data"
   ],
   "outputs": [],
   "execution_count": 8
  },
  {
   "cell_type": "code",
   "id": "5b485123-d069-44f4-9cbe-c3ae89eb63d1",
   "metadata": {
    "ExecuteTime": {
     "end_time": "2025-10-16T06:02:03.624037Z",
     "start_time": "2025-10-16T06:02:03.621385Z"
    }
   },
   "source": [
    "# from arcgis.layers import Service\n",
    "# webmap_data = arc.webmap_data\n",
    "# webmap_data"
   ],
   "outputs": [],
   "execution_count": 9
  },
  {
   "cell_type": "code",
   "id": "c2946f2d-4f41-4e95-9ff4-3b946b715bbe",
   "metadata": {
    "ExecuteTime": {
     "end_time": "2025-10-16T06:02:03.634615Z",
     "start_time": "2025-10-16T06:02:03.632002Z"
    }
   },
   "source": [
    "# # only looks at the layers\n",
    "# for layer_group in arc.webmap_data.get('operationalLayers'):\n",
    "#     # print(layer_group)\n",
    "#     for layer in layer_group.get('layers'):\n",
    "#         # print(layer)\n",
    "#         # print(f'title: {layer.get(\"title\")}')\n",
    "#         # print(f'url: {layer.get(\"url\")}')\n",
    "#         print(layer.get('title'))"
   ],
   "outputs": [],
   "execution_count": 10
  },
  {
   "cell_type": "code",
   "id": "ddd6eb9a",
   "metadata": {
    "ExecuteTime": {
     "end_time": "2025-10-16T06:02:31.629542Z",
     "start_time": "2025-10-16T06:02:03.642800Z"
    }
   },
   "source": [
    "#### if too long because some cache issue\n",
    "# #if there is cache\n",
    "# arc.cleanup()\n",
    "\n",
    "dict_to_old_gdb = {}\n",
    "list_gdf_to_update = []\n",
    "\n",
    "# example layer_name \n",
    "list_layer_to_update = ['Layer STA100 - Staff']\n",
    "\n",
    "for i in list_layer_to_update:\n",
    "    dict_to_old_gdb[i] = arc.layer_service_to_gdf(layer_name=i)\n",
    "    list_gdf_to_update.append(arc.layer_service_to_gdf(layer_name=i))\n",
    "\n",
    "# list_gdf_to_update = [arc.layer_service_to_gdf(layer_name=layer_name) for layer_name in list_layer_to_update]\n",
    "# list_gdf_to_update[0].head()"
   ],
   "outputs": [
    {
     "name": "stderr",
     "output_type": "stream",
     "text": [
      "INFO:xls_append.main:Successfully connected to portal\n",
      "INFO:xls_append.main:Webmap search successful with 2 webmaps\n",
      "INFO:xls_append.main:Successfully loaded webmap data\n",
      "INFO:xls_append.main:Found 1 layer groups\n",
      "INFO:xls_append.main:Extracted 21 layers from 1 layer groups\n",
      "INFO:xls_append.main:Built layer index with 21 layers\n",
      "INFO:xls_append.main:Successfully retrieved feature layer: Layer STA100 - Staff\n",
      "INFO:xls_append.main:Successfully converted layer 'Layer STA100 - Staff' to GeoDataFrame with 0 features\n",
      "INFO:xls_append.main:Successfully converted layer 'Layer STA100 - Staff' to GeoDataFrame with 0 features\n"
     ]
    }
   ],
   "execution_count": 11
  },
  {
   "cell_type": "code",
   "id": "1bd84737-c0eb-42a9-be03-87d1c1e036fa",
   "metadata": {
    "ExecuteTime": {
     "end_time": "2025-10-16T06:02:31.651989Z",
     "start_time": "2025-10-16T06:02:31.644632Z"
    }
   },
   "source": [
    "len(arc.list_feature_layer)"
   ],
   "outputs": [
    {
     "data": {
      "text/plain": [
       "1"
      ]
     },
     "execution_count": 12,
     "metadata": {},
     "output_type": "execute_result"
    }
   ],
   "execution_count": 12
  },
  {
   "cell_type": "code",
   "id": "2e6facf5-5be9-4fbf-af1a-4fbe9c705c7a",
   "metadata": {
    "ExecuteTime": {
     "end_time": "2025-10-16T06:02:31.667238Z",
     "start_time": "2025-10-16T06:02:31.662268Z"
    }
   },
   "source": [
    "len(arc.list_layers)"
   ],
   "outputs": [
    {
     "data": {
      "text/plain": [
       "21"
      ]
     },
     "execution_count": 13,
     "metadata": {},
     "output_type": "execute_result"
    }
   ],
   "execution_count": 13
  },
  {
   "cell_type": "code",
   "id": "1fc9f3e9-e9ab-400f-9a8b-b957f006fce7",
   "metadata": {
    "ExecuteTime": {
     "end_time": "2025-10-16T06:02:31.693215Z",
     "start_time": "2025-10-16T06:02:31.690335Z"
    }
   },
   "source": [
    "# list_gdf_to_update[0].head()"
   ],
   "outputs": [],
   "execution_count": 14
  },
  {
   "cell_type": "code",
   "id": "df238ccc",
   "metadata": {
    "ExecuteTime": {
     "end_time": "2025-10-16T06:02:31.700452Z",
     "start_time": "2025-10-16T06:02:31.697959Z"
    }
   },
   "source": [
    "# os.getenv('PUBLIC_GDRIVE')"
   ],
   "outputs": [],
   "execution_count": 15
  },
  {
   "cell_type": "code",
   "id": "e78670d4",
   "metadata": {
    "ExecuteTime": {
     "end_time": "2025-10-16T06:02:38.739551Z",
     "start_time": "2025-10-16T06:02:31.710490Z"
    }
   },
   "source": [
    "import geopandas as gpd\n",
    "\n",
    "# country dataset, adapted from: https://web.archive.org/web/20231220150759/https://thematicmapping.org/downloads/TM_WORLD_BORDERS-0.3.zip\n",
    "country_gdf = arc.layer_service_to_gdf(layer_name='Other countries')\n",
    "# country_gdf.head()"
   ],
   "outputs": [
    {
     "name": "stderr",
     "output_type": "stream",
     "text": [
      "INFO:xls_append.main:Successfully retrieved feature layer: Other countries\n",
      "INFO:xls_append.main:Successfully converted layer 'Other countries' to GeoDataFrame with 246 features\n"
     ]
    }
   ],
   "execution_count": 16
  },
  {
   "cell_type": "code",
   "id": "6b32be8c-c7f6-4d96-a741-5c1a3aa9a000",
   "metadata": {
    "ExecuteTime": {
     "end_time": "2025-10-16T06:02:38.760209Z",
     "start_time": "2025-10-16T06:02:38.756545Z"
    }
   },
   "source": [
    "len(arc.list_feature_layer)"
   ],
   "outputs": [
    {
     "data": {
      "text/plain": [
       "2"
      ]
     },
     "execution_count": 17,
     "metadata": {},
     "output_type": "execute_result"
    }
   ],
   "execution_count": 17
  },
  {
   "cell_type": "code",
   "id": "31c4258c-5fe7-4160-906a-50a80c5f91f8",
   "metadata": {
    "ExecuteTime": {
     "end_time": "2025-10-16T06:02:38.781456Z",
     "start_time": "2025-10-16T06:02:38.778370Z"
    }
   },
   "source": [
    "xls_gsheet_path = os.getenv('XLS_PATH')"
   ],
   "outputs": [],
   "execution_count": 18
  },
  {
   "cell_type": "code",
   "id": "187c9e8c-7755-4251-990c-9a170b70fb20",
   "metadata": {
    "ExecuteTime": {
     "end_time": "2025-10-16T06:02:38.801528Z",
     "start_time": "2025-10-16T06:02:38.798324Z"
    }
   },
   "source": [
    "import pandas as pd\n",
    "update_test = arc.input_df\n",
    "# update_test.head()"
   ],
   "outputs": [],
   "execution_count": 19
  },
  {
   "cell_type": "code",
   "id": "98a727b7-10a7-473e-b471-a2817ab97b32",
   "metadata": {
    "ExecuteTime": {
     "end_time": "2025-10-16T06:02:38.825504Z",
     "start_time": "2025-10-16T06:02:38.821603Z"
    }
   },
   "source": [
    "list_layer_to_update"
   ],
   "outputs": [
    {
     "data": {
      "text/plain": [
       "['Layer STA100 - Staff']"
      ]
     },
     "execution_count": 20,
     "metadata": {},
     "output_type": "execute_result"
    }
   ],
   "execution_count": 20
  },
  {
   "cell_type": "code",
   "id": "d50fc149-c00f-46f8-9708-73350e259515",
   "metadata": {
    "ExecuteTime": {
     "end_time": "2025-10-16T06:02:38.855385Z",
     "start_time": "2025-10-16T06:02:38.848791Z"
    }
   },
   "source": [
    "### ADJUST THIS INPUT TO TEST AS ABOVE INDEX i - change to dict\n",
    "\n",
    "# test_layername_to_update = list_layer_to_update[0]\n",
    "# test_gdb_to_update = list_gdf_to_update[0]\n",
    "test_layername_to_update = list_layer_to_update[0]\n",
    "test_gdb_to_update = dict_to_old_gdb[test_layername_to_update]\n",
    "\n",
    "test_gdb_to_update.head()"
   ],
   "outputs": [
    {
     "data": {
      "text/plain": [
       "Empty DataFrame\n",
       "Columns: []\n",
       "Index: []"
      ],
      "text/html": [
       "<div>\n",
       "<style scoped>\n",
       "    .dataframe tbody tr th:only-of-type {\n",
       "        vertical-align: middle;\n",
       "    }\n",
       "\n",
       "    .dataframe tbody tr th {\n",
       "        vertical-align: top;\n",
       "    }\n",
       "\n",
       "    .dataframe thead th {\n",
       "        text-align: right;\n",
       "    }\n",
       "</style>\n",
       "<table border=\"1\" class=\"dataframe\">\n",
       "  <thead>\n",
       "    <tr style=\"text-align: right;\">\n",
       "      <th></th>\n",
       "    </tr>\n",
       "  </thead>\n",
       "  <tbody>\n",
       "  </tbody>\n",
       "</table>\n",
       "</div>"
      ]
     },
     "execution_count": 21,
     "metadata": {},
     "output_type": "execute_result"
    }
   ],
   "execution_count": 21
  },
  {
   "cell_type": "code",
   "id": "83a6151b7beceb2d",
   "metadata": {
    "ExecuteTime": {
     "end_time": "2025-10-16T06:02:38.950590Z",
     "start_time": "2025-10-16T06:02:38.948040Z"
    }
   },
   "source": [
    "# len(list_gdf_to_update)"
   ],
   "outputs": [],
   "execution_count": 22
  },
  {
   "cell_type": "code",
   "id": "4429ef9bc59ef653",
   "metadata": {
    "ExecuteTime": {
     "end_time": "2025-10-16T06:02:38.970562Z",
     "start_time": "2025-10-16T06:02:38.968187Z"
    }
   },
   "source": [
    "# os.getenv('XLS_PATH')"
   ],
   "outputs": [],
   "execution_count": 23
  },
  {
   "cell_type": "code",
   "id": "b596a372b5c20083",
   "metadata": {
    "ExecuteTime": {
     "end_time": "2025-10-16T06:02:39.009374Z",
     "start_time": "2025-10-16T06:02:39.004549Z"
    }
   },
   "source": [
    "# target_layer"
   ],
   "outputs": [],
   "execution_count": 24
  },
  {
   "metadata": {
    "ExecuteTime": {
     "end_time": "2025-10-16T06:02:39.117112Z",
     "start_time": "2025-10-16T06:02:39.109029Z"
    }
   },
   "cell_type": "code",
   "source": [
    "import json\n",
    "\n",
    "with open('./query_polygon.json') as f:\n",
    "    query_polygon = json.load(f)\n",
    "\n",
    "filter_layer_metric = [{\n",
    "    \"column\": \"metric_code\",\n",
    "    \"operator\": \"IN\",\n",
    "    \"values\": [\"STA100\"]\n",
    "}]\n",
    "\n",
    "filter_layer_metric += query_polygon\n",
    "filter_layer_metric"
   ],
   "id": "4f9fdb42997f7d7f",
   "outputs": [
    {
     "data": {
      "text/plain": [
       "[{'column': 'metric_code', 'operator': 'IN', 'values': ['STA100']},\n",
       " {'column': 'office',\n",
       "  'operator': 'NOT IN',\n",
       "  'values': ['WWF International - Secretariat',\n",
       "   'WWF-European Policy',\n",
       "   'WWF-Greater Mekong',\n",
       "   'WWF-Mediterranean']}]"
      ]
     },
     "execution_count": 25,
     "metadata": {},
     "output_type": "execute_result"
    }
   ],
   "execution_count": 25
  },
  {
   "cell_type": "code",
   "id": "370c63990861caef",
   "metadata": {
    "ExecuteTime": {
     "end_time": "2025-10-16T06:02:41.176315Z",
     "start_time": "2025-10-16T06:02:39.141505Z"
    }
   },
   "source": [
    "### TESTING SCHEMA\n",
    "\n",
    "# feature_layer_item = gis.content.get(\"YOUR_ITEM_ID\")\n",
    "# target_layer = arc.get_feature_layer_tile_by_name(layer_name=test_layername_to_update)[1]\n",
    "# arc.cleanup()\n",
    "# target_layer = arc.get_feature_layer_tile_by_name(layer_name=\"Other countries\")[1] # test if this works (validation)\n",
    "# target_layer\n",
    "\n",
    "def dict_layer_list_flayer(list_feature_layer,list_layers):\n",
    "    layer_name_flayer = {}\n",
    "    for i in list_feature_layer:\n",
    "        for detail in list_layers:\n",
    "            if detail.get('url') == i.url:\n",
    "                # print(f\"{detail['title']} : {i.url}\" )\n",
    "                layer_name_flayer[detail['title']] = i\n",
    "    return layer_name_flayer\n",
    "\n",
    "# layer_name_flayer = {}\n",
    "\n",
    "# for i in arc.list_feature_layer:\n",
    "#     # print(i.url)\n",
    "#     for detail in arc.list_layers:\n",
    "#         if detail.get('url') == i.url:\n",
    "#             # print(f\"{detail['title']} : {i.url}\" )\n",
    "#             layer_name_flayer[detail['title']] = i\n",
    "\n",
    "layer_name_flayer = dict_layer_list_flayer(arc.list_feature_layer,arc.list_layers)\n",
    "\n",
    "target_layer = layer_name_flayer[test_layername_to_update]\n",
    "# target_layer\n",
    "\n",
    "\n",
    "reference_layer = target_layer\n",
    "df_reference = test_gdb_to_update\n",
    "\n",
    "input_df = update_test # csv update\n",
    "\n",
    "\n",
    "wrangling = arc.xls_wrangling(layer_name=test_layername_to_update,\n",
    "                              reference_layer=reference_layer,\n",
    "                              df_reference=df_reference,query_filter=filter_layer_metric,  auto_add_fields=True\n",
    "                              )\n",
    "\n",
    "# {'mapped_df_esri': mapped_df_esri,\n",
    "#  'mapped_esri_df':mapped_esri_df,\n",
    "#  'comparison_old':comparison_old,\n",
    "#  'comparison_new':comparison_new,\n",
    "#  'is_valid':is_valid,\n",
    "#  'new_updated_df_revised':new_updated_df_revised,\n",
    "#  'data_processing_successful': new_updated_df_revised is not None and not new_updated_df_revised.empty\n",
    "#\n",
    "#  }\n"
   ],
   "outputs": [
    {
     "name": "stdout",
     "output_type": "stream",
     "text": [
      "Generated query: (`metric_code` in @val_0) and (`office` not in @val_1)\n"
     ]
    },
    {
     "name": "stderr",
     "output_type": "stream",
     "text": [
      "/Users/miqbalf/arcpy_arcgis_api_lib/xls_append/main.py:387: SettingWithCopyWarning: \n",
      "A value is trying to be set on a copy of a slice from a DataFrame.\n",
      "Try using .loc[row_indexer,col_indexer] = value instead\n",
      "\n",
      "See the caveats in the documentation: https://pandas.pydata.org/pandas-docs/stable/user_guide/indexing.html#returning-a-view-versus-a-copy\n",
      "  self.input_df['office_type_fe'] = self.input_df.apply(lambda x: 'Country Office' if x['office_type'] == 'Country Office' else 'National Office / Partners', axis =1)\n",
      "/Users/miqbalf/arcpy_arcgis_api_lib/xls_append/main.py:391: SettingWithCopyWarning: \n",
      "A value is trying to be set on a copy of a slice from a DataFrame.\n",
      "Try using .loc[row_indexer,col_indexer] = value instead\n",
      "\n",
      "See the caveats in the documentation: https://pandas.pydata.org/pandas-docs/stable/user_guide/indexing.html#returning-a-view-versus-a-copy\n",
      "  self.input_df['graph_fe'] = self.input_df.apply(lambda x: graph_office_type(x['metric_code'], x['office_type_fe'], is_polygon=True), axis =1)\n",
      "INFO:xls_append.main:Successfully retrieved feature layer: Layer STA100 - Staff\n",
      "INFO:xls_append.main:📘 Field info for: Layer STA100 - Staff\n",
      "INFO:xls_append.main:------------------------------------------------------------\n",
      "INFO:xls_append.main:OBJECTID                       | esriFieldTypeOID     | alias='OBJECTID' | length=\n",
      "INFO:xls_append.main:id                             | esriFieldTypeInteger | alias='id' | length=\n",
      "INFO:xls_append.main:npo                            | esriFieldTypeString  | alias='npo' | length=2147483647\n",
      "INFO:xls_append.main:year                           | esriFieldTypeBigInteger | alias='year' | length=\n",
      "INFO:xls_append.main:metric_id                      | esriFieldTypeDouble  | alias='metric_id' | length=\n",
      "INFO:xls_append.main:metric_code                    | esriFieldTypeString  | alias='metric_code' | length=2147483647\n",
      "INFO:xls_append.main:metric_name                    | esriFieldTypeString  | alias='metric_name' | length=2147483647\n",
      "INFO:xls_append.main:metric_description             | esriFieldTypeString  | alias='metric_description' | length=2147483647\n",
      "INFO:xls_append.main:unit                           | esriFieldTypeString  | alias='unit' | length=2147483647\n",
      "INFO:xls_append.main:office                         | esriFieldTypeString  | alias='office' | length=2147483647\n",
      "INFO:xls_append.main:home_office                    | esriFieldTypeString  | alias='home_office' | length=2147483647\n",
      "INFO:xls_append.main:office_type                    | esriFieldTypeString  | alias='office_type' | length=2147483647\n",
      "INFO:xls_append.main:region                         | esriFieldTypeString  | alias='region' | length=2147483647\n",
      "INFO:xls_append.main:scenario                       | esriFieldTypeString  | alias='scenario' | length=2147483647\n",
      "INFO:xls_append.main:value_us_consolidated          | esriFieldTypeDouble  | alias='value_us_consolidated' | length=\n",
      "INFO:xls_append.main:value_us_consolidated_float    | esriFieldTypeDouble  | alias='value_us_consolidated_float' | length=\n",
      "INFO:xls_append.main:value_non_consolidated         | esriFieldTypeDouble  | alias='value_non_consolidated' | length=\n",
      "INFO:xls_append.main:value_non_consolidated_float   | esriFieldTypeDouble  | alias='value_non_consolidated_float' | length=\n",
      "INFO:xls_append.main:currency                       | esriFieldTypeString  | alias='currency' | length=2147483647\n",
      "INFO:xls_append.main:check_not_same_value_us        | esriFieldTypeInteger | alias='check_not_same_value_us' | length=\n",
      "INFO:xls_append.main:Presentation_Type              | esriFieldTypeString  | alias='Presentation_Type' | length=255\n",
      "INFO:xls_append.main:year_time                      | esriFieldTypeDate    | alias='year_time' | length=8\n",
      "INFO:xls_append.main:Shape__Area                    | esriFieldTypeDouble  | alias='Shape__Area' | length=\n",
      "INFO:xls_append.main:Shape__Length                  | esriFieldTypeDouble  | alias='Shape__Length' | length=\n",
      "INFO:xls_append.main:office_type_fe                 | esriFieldTypeString  | alias='office_type_fe' | length=255\n",
      "INFO:xls_append.main:graph_fe                       | esriFieldTypeString  | alias='graph_fe' | length=255\n",
      "INFO:xls_append.main:Found 26 fields for layer 'Layer STA100 - Staff'\n",
      "INFO:xls_append.data_val:Building validation schema from layer properties...\n",
      "INFO:xls_append.data_val:Found 26 total fields in layer\n",
      "INFO:xls_append.data_val:  -> Processing field: 'OBJECTID' (type: esriFieldTypeOID)\n",
      "INFO:xls_append.data_val:  -> Skipping server-managed field: 'OBJECTID' (type: esriFieldTypeOID)\n",
      "INFO:xls_append.data_val:  -> Processing field: 'id' (type: esriFieldTypeInteger)\n",
      "INFO:xls_append.data_val:  -> Adding rule for field 'id': Type=<class 'pandera.dtypes.Int'>, Nullable=True, Coerce=True\n",
      "INFO:xls_append.data_val:  -> Processing field: 'npo' (type: esriFieldTypeString)\n",
      "INFO:xls_append.data_val:  -> Adding rule for field 'npo': Type=<class 'pandera.dtypes.String'>, Nullable=True, Coerce=True\n",
      "INFO:xls_append.data_val:  -> Processing field: 'year' (type: esriFieldTypeBigInteger)\n",
      "INFO:xls_append.data_val:  -> Adding rule for field 'year': Type=<class 'pandera.dtypes.Int64'>, Nullable=True, Coerce=True\n",
      "INFO:xls_append.data_val:  -> Processing field: 'metric_id' (type: esriFieldTypeDouble)\n",
      "INFO:xls_append.data_val:  -> Adding rule for field 'metric_id': Type=<class 'pandera.dtypes.Float64'>, Nullable=True, Coerce=True\n",
      "INFO:xls_append.data_val:  -> Processing field: 'metric_code' (type: esriFieldTypeString)\n",
      "INFO:xls_append.data_val:  -> Adding rule for field 'metric_code': Type=<class 'pandera.dtypes.String'>, Nullable=True, Coerce=True\n",
      "INFO:xls_append.data_val:  -> Processing field: 'metric_name' (type: esriFieldTypeString)\n",
      "INFO:xls_append.data_val:  -> Adding rule for field 'metric_name': Type=<class 'pandera.dtypes.String'>, Nullable=True, Coerce=True\n",
      "INFO:xls_append.data_val:  -> Processing field: 'metric_description' (type: esriFieldTypeString)\n",
      "INFO:xls_append.data_val:  -> Adding rule for field 'metric_description': Type=<class 'pandera.dtypes.String'>, Nullable=True, Coerce=True\n",
      "INFO:xls_append.data_val:  -> Processing field: 'unit' (type: esriFieldTypeString)\n",
      "INFO:xls_append.data_val:  -> Adding rule for field 'unit': Type=<class 'pandera.dtypes.String'>, Nullable=True, Coerce=True\n",
      "INFO:xls_append.data_val:  -> Processing field: 'office' (type: esriFieldTypeString)\n",
      "INFO:xls_append.data_val:  -> Adding rule for field 'office': Type=<class 'pandera.dtypes.String'>, Nullable=True, Coerce=True\n",
      "INFO:xls_append.data_val:  -> Processing field: 'home_office' (type: esriFieldTypeString)\n",
      "INFO:xls_append.data_val:  -> Adding rule for field 'home_office': Type=<class 'pandera.dtypes.String'>, Nullable=True, Coerce=True\n",
      "INFO:xls_append.data_val:  -> Processing field: 'office_type' (type: esriFieldTypeString)\n",
      "INFO:xls_append.data_val:  -> Adding rule for field 'office_type': Type=<class 'pandera.dtypes.String'>, Nullable=True, Coerce=True\n",
      "INFO:xls_append.data_val:  -> Processing field: 'region' (type: esriFieldTypeString)\n",
      "INFO:xls_append.data_val:  -> Adding rule for field 'region': Type=<class 'pandera.dtypes.String'>, Nullable=True, Coerce=True\n",
      "INFO:xls_append.data_val:  -> Processing field: 'scenario' (type: esriFieldTypeString)\n",
      "INFO:xls_append.data_val:  -> Adding rule for field 'scenario': Type=<class 'pandera.dtypes.String'>, Nullable=True, Coerce=True\n",
      "INFO:xls_append.data_val:  -> Processing field: 'value_us_consolidated' (type: esriFieldTypeDouble)\n",
      "INFO:xls_append.data_val:  -> Adding rule for field 'value_us_consolidated': Type=<class 'pandera.dtypes.Float64'>, Nullable=True, Coerce=True\n",
      "INFO:xls_append.data_val:  -> Processing field: 'value_us_consolidated_float' (type: esriFieldTypeDouble)\n",
      "INFO:xls_append.data_val:  -> Adding rule for field 'value_us_consolidated_float': Type=<class 'pandera.dtypes.Float64'>, Nullable=True, Coerce=True\n",
      "INFO:xls_append.data_val:  -> Processing field: 'value_non_consolidated' (type: esriFieldTypeDouble)\n",
      "INFO:xls_append.data_val:  -> Adding rule for field 'value_non_consolidated': Type=<class 'pandera.dtypes.Float64'>, Nullable=True, Coerce=True\n",
      "INFO:xls_append.data_val:  -> Processing field: 'value_non_consolidated_float' (type: esriFieldTypeDouble)\n",
      "INFO:xls_append.data_val:  -> Adding rule for field 'value_non_consolidated_float': Type=<class 'pandera.dtypes.Float64'>, Nullable=True, Coerce=True\n",
      "INFO:xls_append.data_val:  -> Processing field: 'currency' (type: esriFieldTypeString)\n",
      "INFO:xls_append.data_val:  -> Adding rule for field 'currency': Type=<class 'pandera.dtypes.String'>, Nullable=True, Coerce=True\n",
      "INFO:xls_append.data_val:  -> Processing field: 'check_not_same_value_us' (type: esriFieldTypeInteger)\n",
      "INFO:xls_append.data_val:  -> Adding rule for field 'check_not_same_value_us': Type=<class 'pandera.dtypes.Int'>, Nullable=True, Coerce=True\n",
      "INFO:xls_append.data_val:  -> Processing field: 'Presentation_Type' (type: esriFieldTypeString)\n",
      "INFO:xls_append.data_val:  -> Adding rule for field 'Presentation_Type': Type=<class 'pandera.dtypes.String'>, Nullable=True, Coerce=True\n",
      "INFO:xls_append.data_val:  -> Processing field: 'year_time' (type: esriFieldTypeDate)\n",
      "INFO:xls_append.data_val:  -> Adding rule for field 'year_time': Type=<class 'pandera.dtypes.Timestamp'>, Nullable=True, Coerce=True\n",
      "INFO:xls_append.data_val:  -> Processing field: 'Shape__Area' (type: esriFieldTypeDouble)\n",
      "INFO:xls_append.data_val:  -> Skipping server-managed field: 'Shape__Area' (type: esriFieldTypeDouble)\n",
      "INFO:xls_append.data_val:  -> Processing field: 'Shape__Length' (type: esriFieldTypeDouble)\n",
      "INFO:xls_append.data_val:  -> Skipping server-managed field: 'Shape__Length' (type: esriFieldTypeDouble)\n",
      "INFO:xls_append.data_val:  -> Processing field: 'office_type_fe' (type: esriFieldTypeString)\n",
      "INFO:xls_append.data_val:  -> Adding rule for field 'office_type_fe': Type=<class 'pandera.dtypes.String'>, Nullable=True, Coerce=True\n",
      "INFO:xls_append.data_val:  -> Processing field: 'graph_fe' (type: esriFieldTypeString)\n",
      "INFO:xls_append.data_val:  -> Adding rule for field 'graph_fe': Type=<class 'pandera.dtypes.String'>, Nullable=True, Coerce=True\n",
      "INFO:xls_append.data_val:Successfully built schema with 23 fields\n",
      "/Users/miqbalf/arcpy_arcgis_api_lib/xls_append/data_val.py:1186: FutureWarning: Downcasting object dtype arrays on .fillna, .ffill, .bfill is deprecated and will change in a future version. Call result.infer_objects(copy=False) instead. To opt-in to the future behavior, set `pd.set_option('future.no_silent_downcasting', True)`\n",
      "  new_updated_df[col] = new_updated_df[col].fillna(0)\n",
      "INFO:xls_append.main:Successfully updated data types. New shape: (550, 23)\n",
      "INFO:xls_append.data_val:Building validation schema from layer properties...\n",
      "INFO:xls_append.data_val:Found 26 total fields in layer\n",
      "INFO:xls_append.data_val:  -> Processing field: 'OBJECTID' (type: esriFieldTypeOID)\n",
      "INFO:xls_append.data_val:  -> Skipping server-managed field: 'OBJECTID' (type: esriFieldTypeOID)\n",
      "INFO:xls_append.data_val:  -> Processing field: 'id' (type: esriFieldTypeInteger)\n",
      "INFO:xls_append.data_val:  -> Adding rule for field 'id': Type=<class 'pandera.dtypes.Int'>, Nullable=True, Coerce=True\n",
      "INFO:xls_append.data_val:  -> Processing field: 'npo' (type: esriFieldTypeString)\n",
      "INFO:xls_append.data_val:  -> Adding rule for field 'npo': Type=<class 'pandera.dtypes.String'>, Nullable=True, Coerce=True\n",
      "INFO:xls_append.data_val:  -> Processing field: 'year' (type: esriFieldTypeBigInteger)\n",
      "INFO:xls_append.data_val:  -> Adding rule for field 'year': Type=<class 'pandera.dtypes.Int64'>, Nullable=True, Coerce=True\n",
      "INFO:xls_append.data_val:  -> Processing field: 'metric_id' (type: esriFieldTypeDouble)\n",
      "INFO:xls_append.data_val:  -> Adding rule for field 'metric_id': Type=<class 'pandera.dtypes.Float64'>, Nullable=True, Coerce=True\n",
      "INFO:xls_append.data_val:  -> Processing field: 'metric_code' (type: esriFieldTypeString)\n",
      "INFO:xls_append.data_val:  -> Adding rule for field 'metric_code': Type=<class 'pandera.dtypes.String'>, Nullable=True, Coerce=True\n",
      "INFO:xls_append.data_val:  -> Processing field: 'metric_name' (type: esriFieldTypeString)\n",
      "INFO:xls_append.data_val:  -> Adding rule for field 'metric_name': Type=<class 'pandera.dtypes.String'>, Nullable=True, Coerce=True\n",
      "INFO:xls_append.data_val:  -> Processing field: 'metric_description' (type: esriFieldTypeString)\n",
      "INFO:xls_append.data_val:  -> Adding rule for field 'metric_description': Type=<class 'pandera.dtypes.String'>, Nullable=True, Coerce=True\n",
      "INFO:xls_append.data_val:  -> Processing field: 'unit' (type: esriFieldTypeString)\n",
      "INFO:xls_append.data_val:  -> Adding rule for field 'unit': Type=<class 'pandera.dtypes.String'>, Nullable=True, Coerce=True\n",
      "INFO:xls_append.data_val:  -> Processing field: 'office' (type: esriFieldTypeString)\n",
      "INFO:xls_append.data_val:  -> Adding rule for field 'office': Type=<class 'pandera.dtypes.String'>, Nullable=True, Coerce=True\n",
      "INFO:xls_append.data_val:  -> Processing field: 'home_office' (type: esriFieldTypeString)\n",
      "INFO:xls_append.data_val:  -> Adding rule for field 'home_office': Type=<class 'pandera.dtypes.String'>, Nullable=True, Coerce=True\n",
      "INFO:xls_append.data_val:  -> Processing field: 'office_type' (type: esriFieldTypeString)\n",
      "INFO:xls_append.data_val:  -> Adding rule for field 'office_type': Type=<class 'pandera.dtypes.String'>, Nullable=True, Coerce=True\n",
      "INFO:xls_append.data_val:  -> Processing field: 'region' (type: esriFieldTypeString)\n",
      "INFO:xls_append.data_val:  -> Adding rule for field 'region': Type=<class 'pandera.dtypes.String'>, Nullable=True, Coerce=True\n",
      "INFO:xls_append.data_val:  -> Processing field: 'scenario' (type: esriFieldTypeString)\n",
      "INFO:xls_append.data_val:  -> Adding rule for field 'scenario': Type=<class 'pandera.dtypes.String'>, Nullable=True, Coerce=True\n",
      "INFO:xls_append.data_val:  -> Processing field: 'value_us_consolidated' (type: esriFieldTypeDouble)\n",
      "INFO:xls_append.data_val:  -> Adding rule for field 'value_us_consolidated': Type=<class 'pandera.dtypes.Float64'>, Nullable=True, Coerce=True\n",
      "INFO:xls_append.data_val:  -> Processing field: 'value_us_consolidated_float' (type: esriFieldTypeDouble)\n",
      "INFO:xls_append.data_val:  -> Adding rule for field 'value_us_consolidated_float': Type=<class 'pandera.dtypes.Float64'>, Nullable=True, Coerce=True\n",
      "INFO:xls_append.data_val:  -> Processing field: 'value_non_consolidated' (type: esriFieldTypeDouble)\n",
      "INFO:xls_append.data_val:  -> Adding rule for field 'value_non_consolidated': Type=<class 'pandera.dtypes.Float64'>, Nullable=True, Coerce=True\n",
      "INFO:xls_append.data_val:  -> Processing field: 'value_non_consolidated_float' (type: esriFieldTypeDouble)\n",
      "INFO:xls_append.data_val:  -> Adding rule for field 'value_non_consolidated_float': Type=<class 'pandera.dtypes.Float64'>, Nullable=True, Coerce=True\n",
      "INFO:xls_append.data_val:  -> Processing field: 'currency' (type: esriFieldTypeString)\n",
      "INFO:xls_append.data_val:  -> Adding rule for field 'currency': Type=<class 'pandera.dtypes.String'>, Nullable=True, Coerce=True\n",
      "INFO:xls_append.data_val:  -> Processing field: 'check_not_same_value_us' (type: esriFieldTypeInteger)\n",
      "INFO:xls_append.data_val:  -> Adding rule for field 'check_not_same_value_us': Type=<class 'pandera.dtypes.Int'>, Nullable=True, Coerce=True\n",
      "INFO:xls_append.data_val:  -> Processing field: 'Presentation_Type' (type: esriFieldTypeString)\n",
      "INFO:xls_append.data_val:  -> Adding rule for field 'Presentation_Type': Type=<class 'pandera.dtypes.String'>, Nullable=True, Coerce=True\n",
      "INFO:xls_append.data_val:  -> Processing field: 'year_time' (type: esriFieldTypeDate)\n",
      "INFO:xls_append.data_val:  -> Adding rule for field 'year_time': Type=<class 'pandera.dtypes.Timestamp'>, Nullable=True, Coerce=True\n",
      "INFO:xls_append.data_val:  -> Processing field: 'Shape__Area' (type: esriFieldTypeDouble)\n",
      "INFO:xls_append.data_val:  -> Skipping server-managed field: 'Shape__Area' (type: esriFieldTypeDouble)\n",
      "INFO:xls_append.data_val:  -> Processing field: 'Shape__Length' (type: esriFieldTypeDouble)\n",
      "INFO:xls_append.data_val:  -> Skipping server-managed field: 'Shape__Length' (type: esriFieldTypeDouble)\n",
      "INFO:xls_append.data_val:  -> Processing field: 'office_type_fe' (type: esriFieldTypeString)\n",
      "INFO:xls_append.data_val:  -> Adding rule for field 'office_type_fe': Type=<class 'pandera.dtypes.String'>, Nullable=True, Coerce=True\n",
      "INFO:xls_append.data_val:  -> Processing field: 'graph_fe' (type: esriFieldTypeString)\n",
      "INFO:xls_append.data_val:  -> Adding rule for field 'graph_fe': Type=<class 'pandera.dtypes.String'>, Nullable=True, Coerce=True\n",
      "INFO:xls_append.data_val:Successfully built schema with 23 fields\n",
      "INFO:xls_append.data_val:Building validation schema from layer properties...\n",
      "INFO:xls_append.data_val:Found 26 total fields in layer\n",
      "INFO:xls_append.data_val:  -> Processing field: 'OBJECTID' (type: esriFieldTypeOID)\n",
      "INFO:xls_append.data_val:  -> Skipping server-managed field: 'OBJECTID' (type: esriFieldTypeOID)\n",
      "INFO:xls_append.data_val:  -> Processing field: 'id' (type: esriFieldTypeInteger)\n",
      "INFO:xls_append.data_val:  -> Adding rule for field 'id': Type=<class 'pandera.dtypes.Int'>, Nullable=True, Coerce=True\n",
      "INFO:xls_append.data_val:  -> Processing field: 'npo' (type: esriFieldTypeString)\n",
      "INFO:xls_append.data_val:  -> Adding rule for field 'npo': Type=<class 'pandera.dtypes.String'>, Nullable=True, Coerce=True\n",
      "INFO:xls_append.data_val:  -> Processing field: 'year' (type: esriFieldTypeBigInteger)\n",
      "INFO:xls_append.data_val:  -> Adding rule for field 'year': Type=<class 'pandera.dtypes.Int64'>, Nullable=True, Coerce=True\n",
      "INFO:xls_append.data_val:  -> Processing field: 'metric_id' (type: esriFieldTypeDouble)\n",
      "INFO:xls_append.data_val:  -> Adding rule for field 'metric_id': Type=<class 'pandera.dtypes.Float64'>, Nullable=True, Coerce=True\n",
      "INFO:xls_append.data_val:  -> Processing field: 'metric_code' (type: esriFieldTypeString)\n",
      "INFO:xls_append.data_val:  -> Adding rule for field 'metric_code': Type=<class 'pandera.dtypes.String'>, Nullable=True, Coerce=True\n",
      "INFO:xls_append.data_val:  -> Processing field: 'metric_name' (type: esriFieldTypeString)\n",
      "INFO:xls_append.data_val:  -> Adding rule for field 'metric_name': Type=<class 'pandera.dtypes.String'>, Nullable=True, Coerce=True\n",
      "INFO:xls_append.data_val:  -> Processing field: 'metric_description' (type: esriFieldTypeString)\n",
      "INFO:xls_append.data_val:  -> Adding rule for field 'metric_description': Type=<class 'pandera.dtypes.String'>, Nullable=True, Coerce=True\n",
      "INFO:xls_append.data_val:  -> Processing field: 'unit' (type: esriFieldTypeString)\n",
      "INFO:xls_append.data_val:  -> Adding rule for field 'unit': Type=<class 'pandera.dtypes.String'>, Nullable=True, Coerce=True\n",
      "INFO:xls_append.data_val:  -> Processing field: 'office' (type: esriFieldTypeString)\n",
      "INFO:xls_append.data_val:  -> Adding rule for field 'office': Type=<class 'pandera.dtypes.String'>, Nullable=True, Coerce=True\n",
      "INFO:xls_append.data_val:  -> Processing field: 'home_office' (type: esriFieldTypeString)\n",
      "INFO:xls_append.data_val:  -> Adding rule for field 'home_office': Type=<class 'pandera.dtypes.String'>, Nullable=True, Coerce=True\n",
      "INFO:xls_append.data_val:  -> Processing field: 'office_type' (type: esriFieldTypeString)\n",
      "INFO:xls_append.data_val:  -> Adding rule for field 'office_type': Type=<class 'pandera.dtypes.String'>, Nullable=True, Coerce=True\n",
      "INFO:xls_append.data_val:  -> Processing field: 'region' (type: esriFieldTypeString)\n",
      "INFO:xls_append.data_val:  -> Adding rule for field 'region': Type=<class 'pandera.dtypes.String'>, Nullable=True, Coerce=True\n",
      "INFO:xls_append.data_val:  -> Processing field: 'scenario' (type: esriFieldTypeString)\n",
      "INFO:xls_append.data_val:  -> Adding rule for field 'scenario': Type=<class 'pandera.dtypes.String'>, Nullable=True, Coerce=True\n",
      "INFO:xls_append.data_val:  -> Processing field: 'value_us_consolidated' (type: esriFieldTypeDouble)\n",
      "INFO:xls_append.data_val:  -> Adding rule for field 'value_us_consolidated': Type=<class 'pandera.dtypes.Float64'>, Nullable=True, Coerce=True\n",
      "INFO:xls_append.data_val:  -> Processing field: 'value_us_consolidated_float' (type: esriFieldTypeDouble)\n",
      "INFO:xls_append.data_val:  -> Adding rule for field 'value_us_consolidated_float': Type=<class 'pandera.dtypes.Float64'>, Nullable=True, Coerce=True\n",
      "INFO:xls_append.data_val:  -> Processing field: 'value_non_consolidated' (type: esriFieldTypeDouble)\n",
      "INFO:xls_append.data_val:  -> Adding rule for field 'value_non_consolidated': Type=<class 'pandera.dtypes.Float64'>, Nullable=True, Coerce=True\n",
      "INFO:xls_append.data_val:  -> Processing field: 'value_non_consolidated_float' (type: esriFieldTypeDouble)\n",
      "INFO:xls_append.data_val:  -> Adding rule for field 'value_non_consolidated_float': Type=<class 'pandera.dtypes.Float64'>, Nullable=True, Coerce=True\n",
      "INFO:xls_append.data_val:  -> Processing field: 'currency' (type: esriFieldTypeString)\n",
      "INFO:xls_append.data_val:  -> Adding rule for field 'currency': Type=<class 'pandera.dtypes.String'>, Nullable=True, Coerce=True\n",
      "INFO:xls_append.data_val:  -> Processing field: 'check_not_same_value_us' (type: esriFieldTypeInteger)\n",
      "INFO:xls_append.data_val:  -> Adding rule for field 'check_not_same_value_us': Type=<class 'pandera.dtypes.Int'>, Nullable=True, Coerce=True\n",
      "INFO:xls_append.data_val:  -> Processing field: 'Presentation_Type' (type: esriFieldTypeString)\n",
      "INFO:xls_append.data_val:  -> Adding rule for field 'Presentation_Type': Type=<class 'pandera.dtypes.String'>, Nullable=True, Coerce=True\n",
      "INFO:xls_append.data_val:  -> Processing field: 'year_time' (type: esriFieldTypeDate)\n",
      "INFO:xls_append.data_val:  -> Adding rule for field 'year_time': Type=<class 'pandera.dtypes.Timestamp'>, Nullable=True, Coerce=True\n",
      "INFO:xls_append.data_val:  -> Processing field: 'Shape__Area' (type: esriFieldTypeDouble)\n",
      "INFO:xls_append.data_val:  -> Skipping server-managed field: 'Shape__Area' (type: esriFieldTypeDouble)\n",
      "INFO:xls_append.data_val:  -> Processing field: 'Shape__Length' (type: esriFieldTypeDouble)\n",
      "INFO:xls_append.data_val:  -> Skipping server-managed field: 'Shape__Length' (type: esriFieldTypeDouble)\n",
      "INFO:xls_append.data_val:  -> Processing field: 'office_type_fe' (type: esriFieldTypeString)\n",
      "INFO:xls_append.data_val:  -> Adding rule for field 'office_type_fe': Type=<class 'pandera.dtypes.String'>, Nullable=True, Coerce=True\n",
      "INFO:xls_append.data_val:  -> Processing field: 'graph_fe' (type: esriFieldTypeString)\n",
      "INFO:xls_append.data_val:  -> Adding rule for field 'graph_fe': Type=<class 'pandera.dtypes.String'>, Nullable=True, Coerce=True\n",
      "INFO:xls_append.data_val:Successfully built schema with 23 fields\n"
     ]
    },
    {
     "name": "stdout",
     "output_type": "stream",
     "text": [
      "  + Added placeholder column: check_not_same_value_us\n",
      "  + Added placeholder column: Presentation_Type\n",
      "force_update_dtype_xls\n",
      "ℹ️ No reference data provided, using input df for unique columns\n",
      "Found 1 unique metric_codes in input data\n",
      "📋 Getting schema from feature layer...\n",
      "  ⊘ Skipping server-managed/geometry field: OBJECTID (esriFieldTypeOID)\n",
      "  ⊘ Skipping field: Shape__Area (in skip list)\n",
      "  ⊘ Skipping field: Shape__Length (in skip list)\n",
      "✅ Retrieved schema with 23 editable fields from layer (skipped 3 server-managed/geometry fields)\n",
      "Filtering data by 1 unique metric_codes...\n",
      "✅ Filtered to 550 rows\n",
      "\n",
      "🔄 Converting dtypes to match target schema...\n",
      "Processing column: id\n",
      "  → Converting id from int64 to int32\n",
      "  ✅ Converted successfully\n",
      "Processing column: npo\n",
      "  ✓ npo already has correct dtype: object\n",
      "Processing column: year\n",
      "  ✓ year already has correct dtype: int64\n",
      "Processing column: metric_id\n",
      "  → Converting metric_id from int64 to float64 (with string cleaning)\n",
      "  ✅ Converted successfully\n",
      "Processing column: metric_code\n",
      "  ✓ metric_code already has correct dtype: object\n",
      "Processing column: metric_name\n",
      "  ✓ metric_name already has correct dtype: object\n",
      "Processing column: unit\n",
      "  ✓ unit already has correct dtype: object\n",
      "Processing column: office\n",
      "  ✓ office already has correct dtype: object\n",
      "Processing column: office_type\n",
      "  ✓ office_type already has correct dtype: object\n",
      "Processing column: home_office\n",
      "  ✓ home_office already has correct dtype: object\n",
      "Processing column: region\n",
      "  ✓ region already has correct dtype: object\n",
      "Processing column: scenario\n",
      "  ✓ scenario already has correct dtype: object\n",
      "Processing column: value_us_consolidated\n",
      "  → Converting value_us_consolidated from int64 to float64 (with string cleaning)\n",
      "  ✅ Converted successfully\n",
      "Processing column: value_non_consolidated\n",
      "  → Converting value_non_consolidated from int64 to float64 (with string cleaning)\n",
      "  ✅ Converted successfully\n",
      "Processing column: currency\n",
      "  ✓ currency already has correct dtype: object\n",
      "Processing column: metric_description\n",
      "  ✓ metric_description already has correct dtype: object\n",
      "Processing column: office_type_fe\n",
      "  ✓ office_type_fe already has correct dtype: object\n",
      "Processing column: graph_fe\n",
      "  ✓ graph_fe already has correct dtype: object\n",
      "Processing column: value_us_consolidated_float\n",
      "  ✓ value_us_consolidated_float already has correct dtype: float64\n",
      "Processing column: year_time\n",
      "  ✓ year_time already has correct dtype: datetime64[ns]\n",
      "Processing column: check_not_same_value_us\n",
      "  → Converting check_not_same_value_us from object to int32\n",
      "     ⚠️ check_not_same_value_us contains 550 NaN values, filling with 0\n",
      "  ✅ Converted successfully\n",
      "Processing column: Presentation_Type\n",
      "  ✓ Presentation_Type already has correct dtype: object\n",
      "Processing column: value_non_consolidated_float\n",
      "  ✓ value_non_consolidated_float already has correct dtype: float64\n",
      "✅ Valid!\n",
      "Validation result: True\n"
     ]
    }
   ],
   "execution_count": 26
  },
  {
   "cell_type": "code",
   "id": "bcde145228874518",
   "metadata": {
    "ExecuteTime": {
     "end_time": "2025-10-16T06:02:41.211179Z",
     "start_time": "2025-10-16T06:02:41.208008Z"
    }
   },
   "source": "input_df_revised = wrangling['new_updated_df_revised']",
   "outputs": [],
   "execution_count": 27
  },
  {
   "metadata": {
    "ExecuteTime": {
     "end_time": "2025-10-16T06:02:41.254331Z",
     "start_time": "2025-10-16T06:02:41.250752Z"
    }
   },
   "cell_type": "code",
   "source": "input_df_revised.shape",
   "id": "ebd761d7c1eff26",
   "outputs": [
    {
     "data": {
      "text/plain": [
       "(550, 23)"
      ]
     },
     "execution_count": 28,
     "metadata": {},
     "output_type": "execute_result"
    }
   ],
   "execution_count": 28
  },
  {
   "cell_type": "code",
   "id": "4ed6f417b747767f",
   "metadata": {
    "ExecuteTime": {
     "end_time": "2025-10-16T06:02:41.293367Z",
     "start_time": "2025-10-16T06:02:41.290936Z"
    }
   },
   "source": [
    "# input_df_revised.info()"
   ],
   "outputs": [],
   "execution_count": 29
  },
  {
   "cell_type": "code",
   "id": "143f78fef80a5df2",
   "metadata": {
    "ExecuteTime": {
     "end_time": "2025-10-16T06:02:41.343560Z",
     "start_time": "2025-10-16T06:02:41.329286Z"
    }
   },
   "source": [
    "import sys\n",
    "import importlib\n",
    "\n",
    "def reload_module(string):\n",
    "    if string in sys.modules:\n",
    "        return importlib.reload(sys.modules[string])\n",
    "    else:\n",
    "        return importlib.import_module(string)\n",
    "\n",
    "\n",
    "data_val_reload = \"xls_append.data_val\"\n",
    "reload_module = reload_module(data_val_reload)\n",
    "print(f\"Module successfully loaded: {data_val_reload}\")\n"
   ],
   "outputs": [
    {
     "name": "stdout",
     "output_type": "stream",
     "text": [
      "Module successfully loaded: xls_append.data_val\n"
     ]
    }
   ],
   "execution_count": 30
  },
  {
   "cell_type": "code",
   "id": "2edd9dfe85d277c",
   "metadata": {
    "ExecuteTime": {
     "end_time": "2025-10-16T06:02:41.380390Z",
     "start_time": "2025-10-16T06:02:41.377981Z"
    }
   },
   "source": [
    "# input_df.info()"
   ],
   "outputs": [],
   "execution_count": 31
  },
  {
   "cell_type": "code",
   "id": "ed1317024c1e1c4d",
   "metadata": {
    "ExecuteTime": {
     "end_time": "2025-10-16T06:02:41.417835Z",
     "start_time": "2025-10-16T06:02:41.415634Z"
    }
   },
   "source": [
    "# testing\n",
    "# input_df_revised.info()"
   ],
   "outputs": [],
   "execution_count": 32
  },
  {
   "cell_type": "code",
   "id": "76f4acc65bb8993a",
   "metadata": {
    "ExecuteTime": {
     "end_time": "2025-10-16T06:02:41.456339Z",
     "start_time": "2025-10-16T06:02:41.453592Z"
    }
   },
   "source": [
    "# input_df_revised.office"
   ],
   "outputs": [],
   "execution_count": 33
  },
  {
   "cell_type": "code",
   "id": "6ee84b22ecff6518",
   "metadata": {
    "ExecuteTime": {
     "end_time": "2025-10-16T06:02:41.500472Z",
     "start_time": "2025-10-16T06:02:41.497482Z"
    }
   },
   "source": [
    "# country_gdf.head()"
   ],
   "outputs": [],
   "execution_count": 34
  },
  {
   "cell_type": "code",
   "id": "8b53bb85d4713edf",
   "metadata": {
    "ExecuteTime": {
     "end_time": "2025-10-16T06:02:41.554287Z",
     "start_time": "2025-10-16T06:02:41.550313Z"
    }
   },
   "source": [
    "# load_dotenv()"
   ],
   "outputs": [],
   "execution_count": 35
  },
  {
   "cell_type": "code",
   "id": "92fa42e81411c090",
   "metadata": {
    "ExecuteTime": {
     "end_time": "2025-10-16T06:02:47.229130Z",
     "start_time": "2025-10-16T06:02:41.604334Z"
    }
   },
   "source": [
    "from xls_append.utils import download_file_from_url\n",
    "\n",
    "csv_path_office_country = download_file_from_url(url='https://docs.google.com/spreadsheets/d/e/2PACX-1vSFF0BX-SkCqe_HVOIA7jMS1JBe7ABanncQGGnh2_BjIdvG-2Rjzw4f-o8yQQ0_llsXrM4DDl9cmWU6/pub?gid=0&single=true&output=csv')\n",
    "office_ref_df = pd.read_csv(csv_path_office_country)\n",
    "\n",
    "## map the data and clean\n",
    "office_ref_df['office_gsheet_andreas'] = office_ref_df['Office']\n",
    "office_ref_df['office_type_gsheet_andreas'] = office_ref_df['Office Type']\n",
    "office_ref_df['country_gsheet_andreas'] = office_ref_df['Countries where Office is active']\n",
    "office_ref_df['region_gsheet_andreas'] = office_ref_df['Region']\n",
    "office_ref_df = office_ref_df.copy()\n",
    "office_ref_df = office_ref_df[['office_gsheet_andreas', 'office_type_gsheet_andreas' , 'country_gsheet_andreas', 'region_gsheet_andreas']]\n",
    "\n",
    "# office_ref_df.head()\n"
   ],
   "outputs": [
    {
     "name": "stderr",
     "output_type": "stream",
     "text": [
      "INFO:xls_append.utils:Downloading file from url\n",
      "INFO:xls_append.utils:Successfully downloaded file to: /var/folders/rf/hnd8dn097rxbh6l24d20g27m0000gn/T/temp_pub\n"
     ]
    }
   ],
   "execution_count": 36
  },
  {
   "metadata": {
    "ExecuteTime": {
     "end_time": "2025-10-16T06:02:47.273990Z",
     "start_time": "2025-10-16T06:02:47.271036Z"
    }
   },
   "cell_type": "code",
   "source": [
    "## connect the data office to world border\n",
    "world_df = country_gdf\n",
    "data_revised = input_df_revised"
   ],
   "id": "bd7e34294b4c1f8b",
   "outputs": [],
   "execution_count": 37
  },
  {
   "metadata": {
    "ExecuteTime": {
     "end_time": "2025-10-16T06:02:47.325556Z",
     "start_time": "2025-10-16T06:02:47.322981Z"
    }
   },
   "cell_type": "code",
   "source": "# data_revised.shape",
   "id": "4ed138fefea65b81",
   "outputs": [],
   "execution_count": 38
  },
  {
   "metadata": {
    "ExecuteTime": {
     "end_time": "2025-10-16T06:02:47.392946Z",
     "start_time": "2025-10-16T06:02:47.373450Z"
    }
   },
   "cell_type": "code",
   "source": "world_df.head()",
   "id": "7fae7e0ab123b44f",
   "outputs": [
    {
     "data": {
      "text/plain": [
       "   OBJECTID  region                 name    area   pop2005 fips iso2 iso3  un  \\\n",
       "0         1      19  Antigua and Barbuda      44     83039   AC   AG  ATG  28   \n",
       "1         2       2              Algeria  238174  32854159   AG   DZ  DZA  12   \n",
       "2         3     142           Azerbaijan    8260   8352021   AJ   AZ  AZE  31   \n",
       "3         4     150              Albania    2740   3153731   AL   AL  ALB   8   \n",
       "4         5       9       American Samoa      20     64051   AQ   AS  ASM  16   \n",
       "\n",
       "   subregion     lon     lat           Shape__Area   Shape__Length  \\\n",
       "0         29 -61.783  17.078      599360609.174805   133700.927769   \n",
       "1         15   2.632  28.163  3014479264885.230469  8343368.918563   \n",
       "2        145  47.395   40.43   147887393116.572266  3292028.755616   \n",
       "3         39  20.068  41.143    50626033492.280273  1287775.184769   \n",
       "4         61 -170.73 -14.318      246078746.763672   123260.324562   \n",
       "\n",
       "                                               SHAPE  \n",
       "0  {\"rings\": [[[-6866928.47049372, 1923670.301966...  \n",
       "1  {\"rings\": [[[329907.556109862, 4411573.9880643...  \n",
       "2  {\"rings\": [[[5018652.3369897, 4832292.096544],...  \n",
       "3  {\"rings\": [[[2163629.4454291, 5015449.24322075...  \n",
       "4  {\"rings\": [[[-18984705.4831263, -1608370.55560...  "
      ],
      "text/html": [
       "<div>\n",
       "<style scoped>\n",
       "    .dataframe tbody tr th:only-of-type {\n",
       "        vertical-align: middle;\n",
       "    }\n",
       "\n",
       "    .dataframe tbody tr th {\n",
       "        vertical-align: top;\n",
       "    }\n",
       "\n",
       "    .dataframe thead th {\n",
       "        text-align: right;\n",
       "    }\n",
       "</style>\n",
       "<table border=\"1\" class=\"dataframe\">\n",
       "  <thead>\n",
       "    <tr style=\"text-align: right;\">\n",
       "      <th></th>\n",
       "      <th>OBJECTID</th>\n",
       "      <th>region</th>\n",
       "      <th>name</th>\n",
       "      <th>area</th>\n",
       "      <th>pop2005</th>\n",
       "      <th>fips</th>\n",
       "      <th>iso2</th>\n",
       "      <th>iso3</th>\n",
       "      <th>un</th>\n",
       "      <th>subregion</th>\n",
       "      <th>lon</th>\n",
       "      <th>lat</th>\n",
       "      <th>Shape__Area</th>\n",
       "      <th>Shape__Length</th>\n",
       "      <th>SHAPE</th>\n",
       "    </tr>\n",
       "  </thead>\n",
       "  <tbody>\n",
       "    <tr>\n",
       "      <th>0</th>\n",
       "      <td>1</td>\n",
       "      <td>19</td>\n",
       "      <td>Antigua and Barbuda</td>\n",
       "      <td>44</td>\n",
       "      <td>83039</td>\n",
       "      <td>AC</td>\n",
       "      <td>AG</td>\n",
       "      <td>ATG</td>\n",
       "      <td>28</td>\n",
       "      <td>29</td>\n",
       "      <td>-61.783</td>\n",
       "      <td>17.078</td>\n",
       "      <td>599360609.174805</td>\n",
       "      <td>133700.927769</td>\n",
       "      <td>{\"rings\": [[[-6866928.47049372, 1923670.301966...</td>\n",
       "    </tr>\n",
       "    <tr>\n",
       "      <th>1</th>\n",
       "      <td>2</td>\n",
       "      <td>2</td>\n",
       "      <td>Algeria</td>\n",
       "      <td>238174</td>\n",
       "      <td>32854159</td>\n",
       "      <td>AG</td>\n",
       "      <td>DZ</td>\n",
       "      <td>DZA</td>\n",
       "      <td>12</td>\n",
       "      <td>15</td>\n",
       "      <td>2.632</td>\n",
       "      <td>28.163</td>\n",
       "      <td>3014479264885.230469</td>\n",
       "      <td>8343368.918563</td>\n",
       "      <td>{\"rings\": [[[329907.556109862, 4411573.9880643...</td>\n",
       "    </tr>\n",
       "    <tr>\n",
       "      <th>2</th>\n",
       "      <td>3</td>\n",
       "      <td>142</td>\n",
       "      <td>Azerbaijan</td>\n",
       "      <td>8260</td>\n",
       "      <td>8352021</td>\n",
       "      <td>AJ</td>\n",
       "      <td>AZ</td>\n",
       "      <td>AZE</td>\n",
       "      <td>31</td>\n",
       "      <td>145</td>\n",
       "      <td>47.395</td>\n",
       "      <td>40.43</td>\n",
       "      <td>147887393116.572266</td>\n",
       "      <td>3292028.755616</td>\n",
       "      <td>{\"rings\": [[[5018652.3369897, 4832292.096544],...</td>\n",
       "    </tr>\n",
       "    <tr>\n",
       "      <th>3</th>\n",
       "      <td>4</td>\n",
       "      <td>150</td>\n",
       "      <td>Albania</td>\n",
       "      <td>2740</td>\n",
       "      <td>3153731</td>\n",
       "      <td>AL</td>\n",
       "      <td>AL</td>\n",
       "      <td>ALB</td>\n",
       "      <td>8</td>\n",
       "      <td>39</td>\n",
       "      <td>20.068</td>\n",
       "      <td>41.143</td>\n",
       "      <td>50626033492.280273</td>\n",
       "      <td>1287775.184769</td>\n",
       "      <td>{\"rings\": [[[2163629.4454291, 5015449.24322075...</td>\n",
       "    </tr>\n",
       "    <tr>\n",
       "      <th>4</th>\n",
       "      <td>5</td>\n",
       "      <td>9</td>\n",
       "      <td>American Samoa</td>\n",
       "      <td>20</td>\n",
       "      <td>64051</td>\n",
       "      <td>AQ</td>\n",
       "      <td>AS</td>\n",
       "      <td>ASM</td>\n",
       "      <td>16</td>\n",
       "      <td>61</td>\n",
       "      <td>-170.73</td>\n",
       "      <td>-14.318</td>\n",
       "      <td>246078746.763672</td>\n",
       "      <td>123260.324562</td>\n",
       "      <td>{\"rings\": [[[-18984705.4831263, -1608370.55560...</td>\n",
       "    </tr>\n",
       "  </tbody>\n",
       "</table>\n",
       "</div>"
      ]
     },
     "execution_count": 39,
     "metadata": {},
     "output_type": "execute_result"
    }
   ],
   "execution_count": 39
  },
  {
   "metadata": {
    "ExecuteTime": {
     "end_time": "2025-10-16T06:02:47.481733Z",
     "start_time": "2025-10-16T06:02:47.476488Z"
    }
   },
   "cell_type": "code",
   "source": [
    "### Synchronize the text in this dictionary from opensource dataset, to office country (google sheet) data\n",
    "def matching_country_polygon(df_revised, office_ref_df, matching_country, world_df):\n",
    "    \"\"\"\n",
    "    Joins non-spatial data with geometry from a Spatially Enabled DataFrame (SDE feature layer).\n",
    "    \"\"\"\n",
    "    # --- Join office reference ---\n",
    "    df_data_country_joined = pd.merge(\n",
    "        df_revised, office_ref_df,\n",
    "        left_on='office', right_on='office_gsheet_andreas', how='left'\n",
    "    )\n",
    "\n",
    "    df_data_country_joined['country'] = df_data_country_joined['country_gsheet_andreas']\n",
    "\n",
    "    # --- Filter non-null ---\n",
    "    df_office_with_country = df_data_country_joined[df_data_country_joined['country'].notnull()].copy()\n",
    "\n",
    "    # --- Normalize country names in office data ---\n",
    "    # invert mapping to map office-side names -> world-side names\n",
    "    reverse_mapping = {v: k for k, v in matching_country.items()}\n",
    "\n",
    "    df_office_with_country['country_normalized'] = df_office_with_country['country'].apply(\n",
    "        lambda x: reverse_mapping.get(x, x)\n",
    "    )\n",
    "\n",
    "    # --- Check unmatched countries (after normalization) ---\n",
    "    list_office_country = sorted(df_office_with_country['country_normalized'].unique())\n",
    "    list_world_country = sorted(world_df['name'].unique())\n",
    "\n",
    "    list_unmatched = [i for i in list_office_country if i not in list_world_country]\n",
    "    if list_unmatched:\n",
    "        print(\"⚠️ Still unmatched after normalization:\", list_unmatched)\n",
    "\n",
    "    # --- Join geometry ---\n",
    "    df_joined = pd.merge(\n",
    "        df_office_with_country,\n",
    "        world_df[['name', 'SHAPE']],\n",
    "        left_on='country_normalized',\n",
    "        right_on='name',\n",
    "        how='left'\n",
    "    )\n",
    "\n",
    "    from arcgis.features import GeoAccessor\n",
    "    sdf = df_joined\n",
    "    sdf.spatial.set_geometry('SHAPE')\n",
    "\n",
    "    sdf = sdf.drop(columns=['country_normalized', 'name'])\n",
    "\n",
    "    return {'df_data_country_joined':df_data_country_joined, 'df_office_with_country':df_office_with_country ,'sdf':sdf}\n"
   ],
   "id": "823759c9f431640c",
   "outputs": [],
   "execution_count": 40
  },
  {
   "metadata": {
    "ExecuteTime": {
     "end_time": "2025-10-16T06:02:47.537136Z",
     "start_time": "2025-10-16T06:02:47.533623Z"
    }
   },
   "cell_type": "code",
   "source": [
    "matching_country = {\n",
    "    'Hong Kong': 'Hong Kong, Special Administrative Region of China',\n",
    "    \"Lao People's Democratic Republic\": 'Laos',\n",
    "    'Burma': 'Myanmar',\n",
    "    'Korea, Republic of': 'South Korea',\n",
    "    'United States': 'United States of America',\n",
    "    'Viet Nam': 'Vietnam',\n",
    "    'United Republic of Tanzania': 'Tanzania, United Republic of'\n",
    "}"
   ],
   "id": "c1629f9588fcda11",
   "outputs": [],
   "execution_count": 41
  },
  {
   "metadata": {
    "ExecuteTime": {
     "end_time": "2025-10-16T06:02:47.561627Z",
     "start_time": "2025-10-16T06:02:47.545936Z"
    }
   },
   "cell_type": "code",
   "source": [
    "joining = matching_country_polygon(input_df_revised, office_ref_df, matching_country, world_df)\n",
    "df_data_country_joined = joining['df_data_country_joined']\n",
    "need_clarify_country_office = df_data_country_joined[df_data_country_joined['country'].isnull()]\n",
    "# need_clarify_country_office\n",
    "# joining['df_office_with_country']\n"
   ],
   "id": "2589db5b992a3ca1",
   "outputs": [],
   "execution_count": 42
  },
  {
   "metadata": {
    "ExecuteTime": {
     "end_time": "2025-10-16T06:02:47.599636Z",
     "start_time": "2025-10-16T06:02:47.596095Z"
    }
   },
   "cell_type": "code",
   "source": "sdf = joining['sdf']",
   "id": "49afd04fcc6e6af7",
   "outputs": [],
   "execution_count": 43
  },
  {
   "metadata": {
    "ExecuteTime": {
     "end_time": "2025-10-16T06:02:47.998679Z",
     "start_time": "2025-10-16T06:02:47.994909Z"
    }
   },
   "cell_type": "code",
   "source": "input_df_revised.shape",
   "id": "a695f570d67aad22",
   "outputs": [
    {
     "data": {
      "text/plain": [
       "(550, 23)"
      ]
     },
     "execution_count": 44,
     "metadata": {},
     "output_type": "execute_result"
    }
   ],
   "execution_count": 44
  },
  {
   "metadata": {
    "ExecuteTime": {
     "end_time": "2025-10-16T06:02:48.093308Z",
     "start_time": "2025-10-16T06:02:48.089642Z"
    }
   },
   "cell_type": "code",
   "source": "sdf.shape",
   "id": "8352e159af52fa04",
   "outputs": [
    {
     "data": {
      "text/plain": [
       "(528, 29)"
      ]
     },
     "execution_count": 45,
     "metadata": {},
     "output_type": "execute_result"
    }
   ],
   "execution_count": 45
  },
  {
   "metadata": {
    "ExecuteTime": {
     "end_time": "2025-10-16T06:02:48.101038Z",
     "start_time": "2025-10-16T06:02:48.098998Z"
    }
   },
   "cell_type": "code",
   "source": "# sdf.head()",
   "id": "bfe2ffa7582175fb",
   "outputs": [],
   "execution_count": 46
  },
  {
   "metadata": {
    "ExecuteTime": {
     "end_time": "2025-10-16T06:02:48.250659Z",
     "start_time": "2025-10-16T06:02:48.247389Z"
    }
   },
   "cell_type": "code",
   "source": [
    "# # backup 1 time\n",
    "# import geopandas as gpd\n",
    "# from shapely.geometry import shape\n",
    "# import json\n",
    "#\n",
    "# for idx, (layer_name, sdf) in enumerate(dict_to_old_gdb.items(), start=1):\n",
    "#     name = layer_name  # use the dict key as file/layer name\n",
    "#\n",
    "#     # --- convert to GeoDataFrame manually ---\n",
    "#     df = sdf.copy()\n",
    "#\n",
    "#     # Detect geometry column\n",
    "#     geom_col = sdf.spatial.name if hasattr(sdf, \"spatial\") else \"SHAPE\"\n",
    "#     if geom_col not in df.columns:\n",
    "#         raise ValueError(f\"No geometry column found in dataframe '{name}'\")\n",
    "#\n",
    "#     # Convert ArcGIS geometry dicts → Shapely geometries\n",
    "#     df[\"geometry\"] = df[geom_col].apply(\n",
    "#         lambda g: shape(g) if isinstance(g, (dict, str)) else g\n",
    "#     )\n",
    "#\n",
    "#     # Create GeoDataFrame (set CRS)\n",
    "#     try:\n",
    "#         crs = sdf.spatial.sr.wkid if hasattr(sdf.spatial, \"sr\") else 4326\n",
    "#         gdf = gpd.GeoDataFrame(df.drop(columns=[geom_col]), geometry=\"geometry\", crs=f\"EPSG:{crs}\")\n",
    "#     except Exception:\n",
    "#         gdf = gpd.GeoDataFrame(df.drop(columns=[geom_col]), geometry=\"geometry\", crs=\"EPSG:4326\")\n",
    "#\n",
    "#     # --- save as GeoPackage ---\n",
    "#     out_path = f\"{name}.gpkg\"\n",
    "#     gdf.to_file(out_path, driver=\"GPKG\")\n",
    "#\n",
    "#     print(f\"✅ Saved {name} → {out_path}\")\n"
   ],
   "id": "9b276670fec7badc",
   "outputs": [],
   "execution_count": 47
  },
  {
   "metadata": {
    "ExecuteTime": {
     "end_time": "2025-10-16T06:02:48.261270Z",
     "start_time": "2025-10-16T06:02:48.256461Z"
    }
   },
   "cell_type": "code",
   "source": [
    "test_layername_to_update\n",
    "# layer_name_flayer"
   ],
   "id": "b623384cff852cc2",
   "outputs": [
    {
     "data": {
      "text/plain": [
       "'Layer STA100 - Staff'"
      ]
     },
     "execution_count": 48,
     "metadata": {},
     "output_type": "execute_result"
    }
   ],
   "execution_count": 48
  },
  {
   "metadata": {
    "ExecuteTime": {
     "end_time": "2025-10-16T06:02:48.343450Z",
     "start_time": "2025-10-16T06:02:48.340773Z"
    }
   },
   "cell_type": "code",
   "source": "# sdf",
   "id": "3038faf718d0f9cf",
   "outputs": [],
   "execution_count": 49
  },
  {
   "metadata": {
    "ExecuteTime": {
     "end_time": "2025-10-16T06:02:48.425879Z",
     "start_time": "2025-10-16T06:02:48.423754Z"
    }
   },
   "cell_type": "code",
   "source": [
    "# arc.cleanup()\n",
    "# test_layername_to_update\n",
    "# reference_layer\n",
    "# df_reference\n",
    "# filter_layer_metric\n"
   ],
   "id": "4982ef1a2e475d8b",
   "outputs": [],
   "execution_count": 50
  },
  {
   "cell_type": "code",
   "id": "3344a34dd74408f6",
   "metadata": {
    "ExecuteTime": {
     "end_time": "2025-10-16T06:02:53.261707Z",
     "start_time": "2025-10-16T06:02:48.505112Z"
    }
   },
   "source": [
    "wrangling_sdf = arc.xls_wrangling(layer_name=test_layername_to_update,\n",
    "                              reference_layer=reference_layer,\n",
    "                              df_reference=df_reference,query_filter=filter_layer_metric,  auto_add_fields=True, df_input=sdf\n",
    "                              )"
   ],
   "outputs": [
    {
     "name": "stderr",
     "output_type": "stream",
     "text": [
      "INFO:xls_append.main:Successfully loaded XLS with 528 rows and 29 columns\n",
      "INFO:xls_append.main:📘 Field info for: Layer STA100 - Staff\n",
      "INFO:xls_append.main:------------------------------------------------------------\n",
      "INFO:xls_append.main:OBJECTID                       | esriFieldTypeOID     | alias='OBJECTID' | length=\n",
      "INFO:xls_append.main:id                             | esriFieldTypeInteger | alias='id' | length=\n",
      "INFO:xls_append.main:npo                            | esriFieldTypeString  | alias='npo' | length=2147483647\n",
      "INFO:xls_append.main:year                           | esriFieldTypeBigInteger | alias='year' | length=\n",
      "INFO:xls_append.main:metric_id                      | esriFieldTypeDouble  | alias='metric_id' | length=\n",
      "INFO:xls_append.main:metric_code                    | esriFieldTypeString  | alias='metric_code' | length=2147483647\n"
     ]
    },
    {
     "name": "stdout",
     "output_type": "stream",
     "text": [
      "Generated query: (`metric_code` in @val_0) and (`office` not in @val_1)\n"
     ]
    },
    {
     "name": "stderr",
     "output_type": "stream",
     "text": [
      "INFO:xls_append.main:metric_name                    | esriFieldTypeString  | alias='metric_name' | length=2147483647\n",
      "INFO:xls_append.main:metric_description             | esriFieldTypeString  | alias='metric_description' | length=2147483647\n",
      "INFO:xls_append.main:unit                           | esriFieldTypeString  | alias='unit' | length=2147483647\n",
      "INFO:xls_append.main:office                         | esriFieldTypeString  | alias='office' | length=2147483647\n",
      "INFO:xls_append.main:home_office                    | esriFieldTypeString  | alias='home_office' | length=2147483647\n",
      "INFO:xls_append.main:office_type                    | esriFieldTypeString  | alias='office_type' | length=2147483647\n",
      "INFO:xls_append.main:region                         | esriFieldTypeString  | alias='region' | length=2147483647\n",
      "INFO:xls_append.main:scenario                       | esriFieldTypeString  | alias='scenario' | length=2147483647\n",
      "INFO:xls_append.main:value_us_consolidated          | esriFieldTypeDouble  | alias='value_us_consolidated' | length=\n",
      "INFO:xls_append.main:value_us_consolidated_float    | esriFieldTypeDouble  | alias='value_us_consolidated_float' | length=\n",
      "INFO:xls_append.main:value_non_consolidated         | esriFieldTypeDouble  | alias='value_non_consolidated' | length=\n",
      "INFO:xls_append.main:value_non_consolidated_float   | esriFieldTypeDouble  | alias='value_non_consolidated_float' | length=\n",
      "INFO:xls_append.main:currency                       | esriFieldTypeString  | alias='currency' | length=2147483647\n",
      "INFO:xls_append.main:check_not_same_value_us        | esriFieldTypeInteger | alias='check_not_same_value_us' | length=\n",
      "INFO:xls_append.main:Presentation_Type              | esriFieldTypeString  | alias='Presentation_Type' | length=255\n",
      "INFO:xls_append.main:year_time                      | esriFieldTypeDate    | alias='year_time' | length=8\n",
      "INFO:xls_append.main:Shape__Area                    | esriFieldTypeDouble  | alias='Shape__Area' | length=\n",
      "INFO:xls_append.main:Shape__Length                  | esriFieldTypeDouble  | alias='Shape__Length' | length=\n",
      "INFO:xls_append.main:office_type_fe                 | esriFieldTypeString  | alias='office_type_fe' | length=255\n",
      "INFO:xls_append.main:graph_fe                       | esriFieldTypeString  | alias='graph_fe' | length=255\n",
      "INFO:xls_append.main:Found 26 fields for layer 'Layer STA100 - Staff'\n",
      "INFO:xls_append.data_val:Building validation schema from layer properties...\n",
      "INFO:xls_append.data_val:Found 26 total fields in layer\n",
      "INFO:xls_append.data_val:  -> Processing field: 'OBJECTID' (type: esriFieldTypeOID)\n",
      "INFO:xls_append.data_val:  -> Skipping server-managed field: 'OBJECTID' (type: esriFieldTypeOID)\n",
      "INFO:xls_append.data_val:  -> Processing field: 'id' (type: esriFieldTypeInteger)\n",
      "INFO:xls_append.data_val:  -> Adding rule for field 'id': Type=<class 'pandera.dtypes.Int'>, Nullable=True, Coerce=True\n",
      "INFO:xls_append.data_val:  -> Processing field: 'npo' (type: esriFieldTypeString)\n",
      "INFO:xls_append.data_val:  -> Adding rule for field 'npo': Type=<class 'pandera.dtypes.String'>, Nullable=True, Coerce=True\n",
      "INFO:xls_append.data_val:  -> Processing field: 'year' (type: esriFieldTypeBigInteger)\n",
      "INFO:xls_append.data_val:  -> Adding rule for field 'year': Type=<class 'pandera.dtypes.Int64'>, Nullable=True, Coerce=True\n",
      "INFO:xls_append.data_val:  -> Processing field: 'metric_id' (type: esriFieldTypeDouble)\n",
      "INFO:xls_append.data_val:  -> Adding rule for field 'metric_id': Type=<class 'pandera.dtypes.Float64'>, Nullable=True, Coerce=True\n",
      "INFO:xls_append.data_val:  -> Processing field: 'metric_code' (type: esriFieldTypeString)\n",
      "INFO:xls_append.data_val:  -> Adding rule for field 'metric_code': Type=<class 'pandera.dtypes.String'>, Nullable=True, Coerce=True\n",
      "INFO:xls_append.data_val:  -> Processing field: 'metric_name' (type: esriFieldTypeString)\n",
      "INFO:xls_append.data_val:  -> Adding rule for field 'metric_name': Type=<class 'pandera.dtypes.String'>, Nullable=True, Coerce=True\n",
      "INFO:xls_append.data_val:  -> Processing field: 'metric_description' (type: esriFieldTypeString)\n",
      "INFO:xls_append.data_val:  -> Adding rule for field 'metric_description': Type=<class 'pandera.dtypes.String'>, Nullable=True, Coerce=True\n",
      "INFO:xls_append.data_val:  -> Processing field: 'unit' (type: esriFieldTypeString)\n",
      "INFO:xls_append.data_val:  -> Adding rule for field 'unit': Type=<class 'pandera.dtypes.String'>, Nullable=True, Coerce=True\n",
      "INFO:xls_append.data_val:  -> Processing field: 'office' (type: esriFieldTypeString)\n",
      "INFO:xls_append.data_val:  -> Adding rule for field 'office': Type=<class 'pandera.dtypes.String'>, Nullable=True, Coerce=True\n",
      "INFO:xls_append.data_val:  -> Processing field: 'home_office' (type: esriFieldTypeString)\n",
      "INFO:xls_append.data_val:  -> Adding rule for field 'home_office': Type=<class 'pandera.dtypes.String'>, Nullable=True, Coerce=True\n",
      "INFO:xls_append.data_val:  -> Processing field: 'office_type' (type: esriFieldTypeString)\n",
      "INFO:xls_append.data_val:  -> Adding rule for field 'office_type': Type=<class 'pandera.dtypes.String'>, Nullable=True, Coerce=True\n",
      "INFO:xls_append.data_val:  -> Processing field: 'region' (type: esriFieldTypeString)\n",
      "INFO:xls_append.data_val:  -> Adding rule for field 'region': Type=<class 'pandera.dtypes.String'>, Nullable=True, Coerce=True\n",
      "INFO:xls_append.data_val:  -> Processing field: 'scenario' (type: esriFieldTypeString)\n",
      "INFO:xls_append.data_val:  -> Adding rule for field 'scenario': Type=<class 'pandera.dtypes.String'>, Nullable=True, Coerce=True\n",
      "INFO:xls_append.data_val:  -> Processing field: 'value_us_consolidated' (type: esriFieldTypeDouble)\n",
      "INFO:xls_append.data_val:  -> Adding rule for field 'value_us_consolidated': Type=<class 'pandera.dtypes.Float64'>, Nullable=True, Coerce=True\n",
      "INFO:xls_append.data_val:  -> Processing field: 'value_us_consolidated_float' (type: esriFieldTypeDouble)\n",
      "INFO:xls_append.data_val:  -> Adding rule for field 'value_us_consolidated_float': Type=<class 'pandera.dtypes.Float64'>, Nullable=True, Coerce=True\n",
      "INFO:xls_append.data_val:  -> Processing field: 'value_non_consolidated' (type: esriFieldTypeDouble)\n",
      "INFO:xls_append.data_val:  -> Adding rule for field 'value_non_consolidated': Type=<class 'pandera.dtypes.Float64'>, Nullable=True, Coerce=True\n",
      "INFO:xls_append.data_val:  -> Processing field: 'value_non_consolidated_float' (type: esriFieldTypeDouble)\n",
      "INFO:xls_append.data_val:  -> Adding rule for field 'value_non_consolidated_float': Type=<class 'pandera.dtypes.Float64'>, Nullable=True, Coerce=True\n",
      "INFO:xls_append.data_val:  -> Processing field: 'currency' (type: esriFieldTypeString)\n",
      "INFO:xls_append.data_val:  -> Adding rule for field 'currency': Type=<class 'pandera.dtypes.String'>, Nullable=True, Coerce=True\n",
      "INFO:xls_append.data_val:  -> Processing field: 'check_not_same_value_us' (type: esriFieldTypeInteger)\n",
      "INFO:xls_append.data_val:  -> Adding rule for field 'check_not_same_value_us': Type=<class 'pandera.dtypes.Int'>, Nullable=True, Coerce=True\n",
      "INFO:xls_append.data_val:  -> Processing field: 'Presentation_Type' (type: esriFieldTypeString)\n",
      "INFO:xls_append.data_val:  -> Adding rule for field 'Presentation_Type': Type=<class 'pandera.dtypes.String'>, Nullable=True, Coerce=True\n",
      "INFO:xls_append.data_val:  -> Processing field: 'year_time' (type: esriFieldTypeDate)\n",
      "INFO:xls_append.data_val:  -> Adding rule for field 'year_time': Type=<class 'pandera.dtypes.Timestamp'>, Nullable=True, Coerce=True\n",
      "INFO:xls_append.data_val:  -> Processing field: 'Shape__Area' (type: esriFieldTypeDouble)\n",
      "INFO:xls_append.data_val:  -> Skipping server-managed field: 'Shape__Area' (type: esriFieldTypeDouble)\n",
      "INFO:xls_append.data_val:  -> Processing field: 'Shape__Length' (type: esriFieldTypeDouble)\n",
      "INFO:xls_append.data_val:  -> Skipping server-managed field: 'Shape__Length' (type: esriFieldTypeDouble)\n",
      "INFO:xls_append.data_val:  -> Processing field: 'office_type_fe' (type: esriFieldTypeString)\n",
      "INFO:xls_append.data_val:  -> Adding rule for field 'office_type_fe': Type=<class 'pandera.dtypes.String'>, Nullable=True, Coerce=True\n",
      "INFO:xls_append.data_val:  -> Processing field: 'graph_fe' (type: esriFieldTypeString)\n",
      "INFO:xls_append.data_val:  -> Adding rule for field 'graph_fe': Type=<class 'pandera.dtypes.String'>, Nullable=True, Coerce=True\n",
      "INFO:xls_append.data_val:Successfully built schema with 23 fields\n",
      "INFO:xls_append.main:Successfully updated data types. New shape: (528, 29)\n",
      "INFO:xls_append.data_val:Building validation schema from layer properties...\n",
      "INFO:xls_append.data_val:Found 26 total fields in layer\n",
      "INFO:xls_append.data_val:  -> Processing field: 'OBJECTID' (type: esriFieldTypeOID)\n",
      "INFO:xls_append.data_val:  -> Skipping server-managed field: 'OBJECTID' (type: esriFieldTypeOID)\n",
      "INFO:xls_append.data_val:  -> Processing field: 'id' (type: esriFieldTypeInteger)\n",
      "INFO:xls_append.data_val:  -> Adding rule for field 'id': Type=<class 'pandera.dtypes.Int'>, Nullable=True, Coerce=True\n",
      "INFO:xls_append.data_val:  -> Processing field: 'npo' (type: esriFieldTypeString)\n",
      "INFO:xls_append.data_val:  -> Adding rule for field 'npo': Type=<class 'pandera.dtypes.String'>, Nullable=True, Coerce=True\n",
      "INFO:xls_append.data_val:  -> Processing field: 'year' (type: esriFieldTypeBigInteger)\n",
      "INFO:xls_append.data_val:  -> Adding rule for field 'year': Type=<class 'pandera.dtypes.Int64'>, Nullable=True, Coerce=True\n",
      "INFO:xls_append.data_val:  -> Processing field: 'metric_id' (type: esriFieldTypeDouble)\n",
      "INFO:xls_append.data_val:  -> Adding rule for field 'metric_id': Type=<class 'pandera.dtypes.Float64'>, Nullable=True, Coerce=True\n",
      "INFO:xls_append.data_val:  -> Processing field: 'metric_code' (type: esriFieldTypeString)\n",
      "INFO:xls_append.data_val:  -> Adding rule for field 'metric_code': Type=<class 'pandera.dtypes.String'>, Nullable=True, Coerce=True\n",
      "INFO:xls_append.data_val:  -> Processing field: 'metric_name' (type: esriFieldTypeString)\n",
      "INFO:xls_append.data_val:  -> Adding rule for field 'metric_name': Type=<class 'pandera.dtypes.String'>, Nullable=True, Coerce=True\n",
      "INFO:xls_append.data_val:  -> Processing field: 'metric_description' (type: esriFieldTypeString)\n",
      "INFO:xls_append.data_val:  -> Adding rule for field 'metric_description': Type=<class 'pandera.dtypes.String'>, Nullable=True, Coerce=True\n",
      "INFO:xls_append.data_val:  -> Processing field: 'unit' (type: esriFieldTypeString)\n",
      "INFO:xls_append.data_val:  -> Adding rule for field 'unit': Type=<class 'pandera.dtypes.String'>, Nullable=True, Coerce=True\n",
      "INFO:xls_append.data_val:  -> Processing field: 'office' (type: esriFieldTypeString)\n",
      "INFO:xls_append.data_val:  -> Adding rule for field 'office': Type=<class 'pandera.dtypes.String'>, Nullable=True, Coerce=True\n",
      "INFO:xls_append.data_val:  -> Processing field: 'home_office' (type: esriFieldTypeString)\n",
      "INFO:xls_append.data_val:  -> Adding rule for field 'home_office': Type=<class 'pandera.dtypes.String'>, Nullable=True, Coerce=True\n",
      "INFO:xls_append.data_val:  -> Processing field: 'office_type' (type: esriFieldTypeString)\n",
      "INFO:xls_append.data_val:  -> Adding rule for field 'office_type': Type=<class 'pandera.dtypes.String'>, Nullable=True, Coerce=True\n",
      "INFO:xls_append.data_val:  -> Processing field: 'region' (type: esriFieldTypeString)\n",
      "INFO:xls_append.data_val:  -> Adding rule for field 'region': Type=<class 'pandera.dtypes.String'>, Nullable=True, Coerce=True\n",
      "INFO:xls_append.data_val:  -> Processing field: 'scenario' (type: esriFieldTypeString)\n",
      "INFO:xls_append.data_val:  -> Adding rule for field 'scenario': Type=<class 'pandera.dtypes.String'>, Nullable=True, Coerce=True\n",
      "INFO:xls_append.data_val:  -> Processing field: 'value_us_consolidated' (type: esriFieldTypeDouble)\n",
      "INFO:xls_append.data_val:  -> Adding rule for field 'value_us_consolidated': Type=<class 'pandera.dtypes.Float64'>, Nullable=True, Coerce=True\n",
      "INFO:xls_append.data_val:  -> Processing field: 'value_us_consolidated_float' (type: esriFieldTypeDouble)\n",
      "INFO:xls_append.data_val:  -> Adding rule for field 'value_us_consolidated_float': Type=<class 'pandera.dtypes.Float64'>, Nullable=True, Coerce=True\n",
      "INFO:xls_append.data_val:  -> Processing field: 'value_non_consolidated' (type: esriFieldTypeDouble)\n",
      "INFO:xls_append.data_val:  -> Adding rule for field 'value_non_consolidated': Type=<class 'pandera.dtypes.Float64'>, Nullable=True, Coerce=True\n",
      "INFO:xls_append.data_val:  -> Processing field: 'value_non_consolidated_float' (type: esriFieldTypeDouble)\n",
      "INFO:xls_append.data_val:  -> Adding rule for field 'value_non_consolidated_float': Type=<class 'pandera.dtypes.Float64'>, Nullable=True, Coerce=True\n",
      "INFO:xls_append.data_val:  -> Processing field: 'currency' (type: esriFieldTypeString)\n",
      "INFO:xls_append.data_val:  -> Adding rule for field 'currency': Type=<class 'pandera.dtypes.String'>, Nullable=True, Coerce=True\n",
      "INFO:xls_append.data_val:  -> Processing field: 'check_not_same_value_us' (type: esriFieldTypeInteger)\n",
      "INFO:xls_append.data_val:  -> Adding rule for field 'check_not_same_value_us': Type=<class 'pandera.dtypes.Int'>, Nullable=True, Coerce=True\n",
      "INFO:xls_append.data_val:  -> Processing field: 'Presentation_Type' (type: esriFieldTypeString)\n",
      "INFO:xls_append.data_val:  -> Adding rule for field 'Presentation_Type': Type=<class 'pandera.dtypes.String'>, Nullable=True, Coerce=True\n",
      "INFO:xls_append.data_val:  -> Processing field: 'year_time' (type: esriFieldTypeDate)\n",
      "INFO:xls_append.data_val:  -> Adding rule for field 'year_time': Type=<class 'pandera.dtypes.Timestamp'>, Nullable=True, Coerce=True\n",
      "INFO:xls_append.data_val:  -> Processing field: 'Shape__Area' (type: esriFieldTypeDouble)\n",
      "INFO:xls_append.data_val:  -> Skipping server-managed field: 'Shape__Area' (type: esriFieldTypeDouble)\n",
      "INFO:xls_append.data_val:  -> Processing field: 'Shape__Length' (type: esriFieldTypeDouble)\n",
      "INFO:xls_append.data_val:  -> Skipping server-managed field: 'Shape__Length' (type: esriFieldTypeDouble)\n",
      "INFO:xls_append.data_val:  -> Processing field: 'office_type_fe' (type: esriFieldTypeString)\n",
      "INFO:xls_append.data_val:  -> Adding rule for field 'office_type_fe': Type=<class 'pandera.dtypes.String'>, Nullable=True, Coerce=True\n",
      "INFO:xls_append.data_val:  -> Processing field: 'graph_fe' (type: esriFieldTypeString)\n",
      "INFO:xls_append.data_val:  -> Adding rule for field 'graph_fe': Type=<class 'pandera.dtypes.String'>, Nullable=True, Coerce=True\n",
      "INFO:xls_append.data_val:Successfully built schema with 23 fields\n"
     ]
    },
    {
     "name": "stdout",
     "output_type": "stream",
     "text": [
      "force_update_dtype_xls\n",
      "ℹ️ No reference data provided, using input df for unique columns\n",
      "Found 1 unique metric_codes in input data\n",
      "📋 Getting schema from feature layer...\n",
      "  ⊘ Skipping server-managed/geometry field: OBJECTID (esriFieldTypeOID)\n",
      "  ⊘ Skipping field: Shape__Area (in skip list)\n",
      "  ⊘ Skipping field: Shape__Length (in skip list)\n",
      "✅ Retrieved schema with 23 editable fields from layer (skipped 3 server-managed/geometry fields)\n",
      "Filtering data by 1 unique metric_codes...\n",
      "✅ Filtered to 528 rows\n",
      "\n",
      "🔄 Converting dtypes to match target schema...\n",
      "Processing column: id\n",
      "  ✓ id already has correct dtype: int32\n",
      "Processing column: npo\n",
      "  ✓ npo already has correct dtype: object\n",
      "Processing column: year\n",
      "  ✓ year already has correct dtype: int64\n",
      "Processing column: metric_id\n",
      "  ✓ metric_id already has correct dtype: float64\n",
      "Processing column: metric_code\n",
      "  ✓ metric_code already has correct dtype: object\n",
      "Processing column: metric_name\n",
      "  ✓ metric_name already has correct dtype: object\n",
      "Processing column: unit\n",
      "  ✓ unit already has correct dtype: object\n",
      "Processing column: office\n",
      "  ✓ office already has correct dtype: object\n",
      "Processing column: office_type\n",
      "  ✓ office_type already has correct dtype: object\n",
      "Processing column: home_office\n",
      "  ✓ home_office already has correct dtype: object\n",
      "Processing column: region\n",
      "  ✓ region already has correct dtype: object\n",
      "Processing column: scenario\n",
      "  ✓ scenario already has correct dtype: object\n",
      "Processing column: value_us_consolidated\n",
      "  ✓ value_us_consolidated already has correct dtype: float64\n",
      "Processing column: value_non_consolidated\n",
      "  ✓ value_non_consolidated already has correct dtype: float64\n",
      "Processing column: currency\n",
      "  ✓ currency already has correct dtype: object\n",
      "Processing column: metric_description\n",
      "  ✓ metric_description already has correct dtype: object\n",
      "Processing column: office_type_fe\n",
      "  ✓ office_type_fe already has correct dtype: object\n",
      "Processing column: graph_fe\n",
      "  ✓ graph_fe already has correct dtype: object\n",
      "Processing column: value_us_consolidated_float\n",
      "  ✓ value_us_consolidated_float already has correct dtype: float64\n",
      "Processing column: year_time\n",
      "  ✓ year_time already has correct dtype: datetime64[ns]\n",
      "Processing column: check_not_same_value_us\n",
      "  ✓ check_not_same_value_us already has correct dtype: int32\n",
      "Processing column: Presentation_Type\n",
      "  ✓ Presentation_Type already has correct dtype: object\n",
      "Processing column: value_non_consolidated_float\n",
      "  ✓ value_non_consolidated_float already has correct dtype: float64\n",
      "ℹ️ Column office_gsheet_andreas not in target schema (might be a new field)\n",
      "ℹ️ Column office_type_gsheet_andreas not in target schema (might be a new field)\n",
      "ℹ️ Column country_gsheet_andreas not in target schema (might be a new field)\n",
      "ℹ️ Column region_gsheet_andreas not in target schema (might be a new field)\n",
      "ℹ️ Column country not in target schema (might be a new field)\n",
      "ℹ️ Column SHAPE not in target schema (might be a new field)\n",
      "❌ Invalid: column 'office_gsheet_andreas' not in DataFrameSchema {'id': <Schema Column(name=id, type=DataType(int64))>, 'npo': <Schema Column(name=npo, type=DataType(str))>, 'year': <Schema Column(name=year, type=DataType(int64))>, 'metric_id': <Schema Column(name=metric_id, type=DataType(float64))>, 'metric_code': <Schema Column(name=metric_code, type=DataType(str))>, 'metric_name': <Schema Column(name=metric_name, type=DataType(str))>, 'metric_description': <Schema Column(name=metric_description, type=DataType(str))>, 'unit': <Schema Column(name=unit, type=DataType(str))>, 'office': <Schema Column(name=office, type=DataType(str))>, 'home_office': <Schema Column(name=home_office, type=DataType(str))>, 'office_type': <Schema Column(name=office_type, type=DataType(str))>, 'region': <Schema Column(name=region, type=DataType(str))>, 'scenario': <Schema Column(name=scenario, type=DataType(str))>, 'value_us_consolidated': <Schema Column(name=value_us_consolidated, type=DataType(float64))>, 'value_us_consolidated_float': <Schema Column(name=value_us_consolidated_float, type=DataType(float64))>, 'value_non_consolidated': <Schema Column(name=value_non_consolidated, type=DataType(float64))>, 'value_non_consolidated_float': <Schema Column(name=value_non_consolidated_float, type=DataType(float64))>, 'currency': <Schema Column(name=currency, type=DataType(str))>, 'check_not_same_value_us': <Schema Column(name=check_not_same_value_us, type=DataType(int64))>, 'Presentation_Type': <Schema Column(name=Presentation_Type, type=DataType(str))>, 'year_time': <Schema Column(name=year_time, type=DataType(datetime64[ns]))>, 'office_type_fe': <Schema Column(name=office_type_fe, type=DataType(str))>, 'graph_fe': <Schema Column(name=graph_fe, type=DataType(str))>}\n",
      "\n",
      "⚠️ Validation failed due to missing columns in layer schema\n",
      "🔧 Checking if we can add missing fields to the layer...\n"
     ]
    },
    {
     "name": "stderr",
     "output_type": "stream",
     "text": [
      "INFO:xls_append.data_val:Skipping server-managed/geometry field: SHAPE\n",
      "INFO:xls_append.data_val:Skipped 1 server-managed/geometry fields: ['SHAPE']\n",
      "INFO:xls_append.data_val:Field to add: {'name': 'office_gsheet_andreas', 'type': 'esriFieldTypeString', 'alias': 'office_gsheet_andreas', 'length': 255, 'nullable': True}\n",
      "INFO:xls_append.data_val:Field to add: {'name': 'office_type_gsheet_andreas', 'type': 'esriFieldTypeString', 'alias': 'office_type_gsheet_andreas', 'length': 255, 'nullable': True}\n",
      "INFO:xls_append.data_val:Field to add: {'name': 'country_gsheet_andreas', 'type': 'esriFieldTypeString', 'alias': 'country_gsheet_andreas', 'length': 255, 'nullable': True}\n",
      "INFO:xls_append.data_val:Field to add: {'name': 'region_gsheet_andreas', 'type': 'esriFieldTypeString', 'alias': 'region_gsheet_andreas', 'length': 255, 'nullable': True}\n",
      "INFO:xls_append.data_val:Field to add: {'name': 'country', 'type': 'esriFieldTypeString', 'alias': 'country', 'length': 255, 'nullable': True}\n",
      "INFO:xls_append.data_val:DRY RUN: The following fields would be added:\n",
      "INFO:xls_append.data_val:  - office_gsheet_andreas (esriFieldTypeString)\n",
      "INFO:xls_append.data_val:  - office_type_gsheet_andreas (esriFieldTypeString)\n",
      "INFO:xls_append.data_val:  - country_gsheet_andreas (esriFieldTypeString)\n",
      "INFO:xls_append.data_val:  - region_gsheet_andreas (esriFieldTypeString)\n",
      "INFO:xls_append.data_val:  - country (esriFieldTypeString)\n",
      "INFO:xls_append.data_val:Skipping server-managed/geometry field: SHAPE\n",
      "INFO:xls_append.data_val:Skipped 1 server-managed/geometry fields: ['SHAPE']\n",
      "INFO:xls_append.data_val:Field to add: {'name': 'office_gsheet_andreas', 'type': 'esriFieldTypeString', 'alias': 'office_gsheet_andreas', 'length': 255, 'nullable': True}\n",
      "INFO:xls_append.data_val:Field to add: {'name': 'office_type_gsheet_andreas', 'type': 'esriFieldTypeString', 'alias': 'office_type_gsheet_andreas', 'length': 255, 'nullable': True}\n",
      "INFO:xls_append.data_val:Field to add: {'name': 'country_gsheet_andreas', 'type': 'esriFieldTypeString', 'alias': 'country_gsheet_andreas', 'length': 255, 'nullable': True}\n",
      "INFO:xls_append.data_val:Field to add: {'name': 'region_gsheet_andreas', 'type': 'esriFieldTypeString', 'alias': 'region_gsheet_andreas', 'length': 255, 'nullable': True}\n",
      "INFO:xls_append.data_val:Field to add: {'name': 'country', 'type': 'esriFieldTypeString', 'alias': 'country', 'length': 255, 'nullable': True}\n"
     ]
    },
    {
     "name": "stdout",
     "output_type": "stream",
     "text": [
      "\n",
      "📋 Fields that need to be added to layer:\n",
      "   - office_gsheet_andreas (esriFieldTypeString, length=255)\n",
      "   - office_type_gsheet_andreas (esriFieldTypeString, length=255)\n",
      "   - country_gsheet_andreas (esriFieldTypeString, length=255)\n",
      "   - region_gsheet_andreas (esriFieldTypeString, length=255)\n",
      "   - country (esriFieldTypeString, length=255)\n",
      "\n",
      "🔧 Automatically adding fields to layer...\n"
     ]
    },
    {
     "name": "stderr",
     "output_type": "stream",
     "text": [
      "INFO:xls_append.data_val:Successfully added 5 fields to layer\n",
      "INFO:xls_append.data_val:Building validation schema from layer properties...\n",
      "INFO:xls_append.data_val:Found 31 total fields in layer\n",
      "INFO:xls_append.data_val:  -> Processing field: 'OBJECTID' (type: esriFieldTypeOID)\n",
      "INFO:xls_append.data_val:  -> Skipping server-managed field: 'OBJECTID' (type: esriFieldTypeOID)\n",
      "INFO:xls_append.data_val:  -> Processing field: 'id' (type: esriFieldTypeInteger)\n",
      "INFO:xls_append.data_val:  -> Adding rule for field 'id': Type=<class 'pandera.dtypes.Int'>, Nullable=True, Coerce=True\n",
      "INFO:xls_append.data_val:  -> Processing field: 'npo' (type: esriFieldTypeString)\n",
      "INFO:xls_append.data_val:  -> Adding rule for field 'npo': Type=<class 'pandera.dtypes.String'>, Nullable=True, Coerce=True\n",
      "INFO:xls_append.data_val:  -> Processing field: 'year' (type: esriFieldTypeBigInteger)\n",
      "INFO:xls_append.data_val:  -> Adding rule for field 'year': Type=<class 'pandera.dtypes.Int64'>, Nullable=True, Coerce=True\n",
      "INFO:xls_append.data_val:  -> Processing field: 'metric_id' (type: esriFieldTypeDouble)\n",
      "INFO:xls_append.data_val:  -> Adding rule for field 'metric_id': Type=<class 'pandera.dtypes.Float64'>, Nullable=True, Coerce=True\n",
      "INFO:xls_append.data_val:  -> Processing field: 'metric_code' (type: esriFieldTypeString)\n",
      "INFO:xls_append.data_val:  -> Adding rule for field 'metric_code': Type=<class 'pandera.dtypes.String'>, Nullable=True, Coerce=True\n",
      "INFO:xls_append.data_val:  -> Processing field: 'metric_name' (type: esriFieldTypeString)\n",
      "INFO:xls_append.data_val:  -> Adding rule for field 'metric_name': Type=<class 'pandera.dtypes.String'>, Nullable=True, Coerce=True\n",
      "INFO:xls_append.data_val:  -> Processing field: 'metric_description' (type: esriFieldTypeString)\n",
      "INFO:xls_append.data_val:  -> Adding rule for field 'metric_description': Type=<class 'pandera.dtypes.String'>, Nullable=True, Coerce=True\n",
      "INFO:xls_append.data_val:  -> Processing field: 'unit' (type: esriFieldTypeString)\n",
      "INFO:xls_append.data_val:  -> Adding rule for field 'unit': Type=<class 'pandera.dtypes.String'>, Nullable=True, Coerce=True\n",
      "INFO:xls_append.data_val:  -> Processing field: 'office' (type: esriFieldTypeString)\n",
      "INFO:xls_append.data_val:  -> Adding rule for field 'office': Type=<class 'pandera.dtypes.String'>, Nullable=True, Coerce=True\n",
      "INFO:xls_append.data_val:  -> Processing field: 'home_office' (type: esriFieldTypeString)\n",
      "INFO:xls_append.data_val:  -> Adding rule for field 'home_office': Type=<class 'pandera.dtypes.String'>, Nullable=True, Coerce=True\n",
      "INFO:xls_append.data_val:  -> Processing field: 'office_type' (type: esriFieldTypeString)\n",
      "INFO:xls_append.data_val:  -> Adding rule for field 'office_type': Type=<class 'pandera.dtypes.String'>, Nullable=True, Coerce=True\n",
      "INFO:xls_append.data_val:  -> Processing field: 'region' (type: esriFieldTypeString)\n",
      "INFO:xls_append.data_val:  -> Adding rule for field 'region': Type=<class 'pandera.dtypes.String'>, Nullable=True, Coerce=True\n",
      "INFO:xls_append.data_val:  -> Processing field: 'scenario' (type: esriFieldTypeString)\n",
      "INFO:xls_append.data_val:  -> Adding rule for field 'scenario': Type=<class 'pandera.dtypes.String'>, Nullable=True, Coerce=True\n",
      "INFO:xls_append.data_val:  -> Processing field: 'value_us_consolidated' (type: esriFieldTypeDouble)\n",
      "INFO:xls_append.data_val:  -> Adding rule for field 'value_us_consolidated': Type=<class 'pandera.dtypes.Float64'>, Nullable=True, Coerce=True\n",
      "INFO:xls_append.data_val:  -> Processing field: 'value_us_consolidated_float' (type: esriFieldTypeDouble)\n",
      "INFO:xls_append.data_val:  -> Adding rule for field 'value_us_consolidated_float': Type=<class 'pandera.dtypes.Float64'>, Nullable=True, Coerce=True\n",
      "INFO:xls_append.data_val:  -> Processing field: 'value_non_consolidated' (type: esriFieldTypeDouble)\n",
      "INFO:xls_append.data_val:  -> Adding rule for field 'value_non_consolidated': Type=<class 'pandera.dtypes.Float64'>, Nullable=True, Coerce=True\n",
      "INFO:xls_append.data_val:  -> Processing field: 'value_non_consolidated_float' (type: esriFieldTypeDouble)\n",
      "INFO:xls_append.data_val:  -> Adding rule for field 'value_non_consolidated_float': Type=<class 'pandera.dtypes.Float64'>, Nullable=True, Coerce=True\n",
      "INFO:xls_append.data_val:  -> Processing field: 'currency' (type: esriFieldTypeString)\n",
      "INFO:xls_append.data_val:  -> Adding rule for field 'currency': Type=<class 'pandera.dtypes.String'>, Nullable=True, Coerce=True\n",
      "INFO:xls_append.data_val:  -> Processing field: 'check_not_same_value_us' (type: esriFieldTypeInteger)\n",
      "INFO:xls_append.data_val:  -> Adding rule for field 'check_not_same_value_us': Type=<class 'pandera.dtypes.Int'>, Nullable=True, Coerce=True\n",
      "INFO:xls_append.data_val:  -> Processing field: 'Presentation_Type' (type: esriFieldTypeString)\n",
      "INFO:xls_append.data_val:  -> Adding rule for field 'Presentation_Type': Type=<class 'pandera.dtypes.String'>, Nullable=True, Coerce=True\n",
      "INFO:xls_append.data_val:  -> Processing field: 'year_time' (type: esriFieldTypeDate)\n",
      "INFO:xls_append.data_val:  -> Adding rule for field 'year_time': Type=<class 'pandera.dtypes.Timestamp'>, Nullable=True, Coerce=True\n",
      "INFO:xls_append.data_val:  -> Processing field: 'Shape__Area' (type: esriFieldTypeDouble)\n",
      "INFO:xls_append.data_val:  -> Skipping server-managed field: 'Shape__Area' (type: esriFieldTypeDouble)\n",
      "INFO:xls_append.data_val:  -> Processing field: 'Shape__Length' (type: esriFieldTypeDouble)\n",
      "INFO:xls_append.data_val:  -> Skipping server-managed field: 'Shape__Length' (type: esriFieldTypeDouble)\n",
      "INFO:xls_append.data_val:  -> Processing field: 'office_type_fe' (type: esriFieldTypeString)\n",
      "INFO:xls_append.data_val:  -> Adding rule for field 'office_type_fe': Type=<class 'pandera.dtypes.String'>, Nullable=True, Coerce=True\n",
      "INFO:xls_append.data_val:  -> Processing field: 'graph_fe' (type: esriFieldTypeString)\n",
      "INFO:xls_append.data_val:  -> Adding rule for field 'graph_fe': Type=<class 'pandera.dtypes.String'>, Nullable=True, Coerce=True\n",
      "INFO:xls_append.data_val:  -> Processing field: 'office_gsheet_andreas' (type: esriFieldTypeString)\n",
      "INFO:xls_append.data_val:  -> Adding rule for field 'office_gsheet_andreas': Type=<class 'pandera.dtypes.String'>, Nullable=True, Coerce=True\n",
      "INFO:xls_append.data_val:  -> Processing field: 'office_type_gsheet_andreas' (type: esriFieldTypeString)\n",
      "INFO:xls_append.data_val:  -> Adding rule for field 'office_type_gsheet_andreas': Type=<class 'pandera.dtypes.String'>, Nullable=True, Coerce=True\n",
      "INFO:xls_append.data_val:  -> Processing field: 'country_gsheet_andreas' (type: esriFieldTypeString)\n",
      "INFO:xls_append.data_val:  -> Adding rule for field 'country_gsheet_andreas': Type=<class 'pandera.dtypes.String'>, Nullable=True, Coerce=True\n",
      "INFO:xls_append.data_val:  -> Processing field: 'region_gsheet_andreas' (type: esriFieldTypeString)\n",
      "INFO:xls_append.data_val:  -> Adding rule for field 'region_gsheet_andreas': Type=<class 'pandera.dtypes.String'>, Nullable=True, Coerce=True\n",
      "INFO:xls_append.data_val:  -> Processing field: 'country' (type: esriFieldTypeString)\n",
      "INFO:xls_append.data_val:  -> Adding rule for field 'country': Type=<class 'pandera.dtypes.String'>, Nullable=True, Coerce=True\n",
      "INFO:xls_append.data_val:Successfully built schema with 28 fields\n"
     ]
    },
    {
     "name": "stdout",
     "output_type": "stream",
     "text": [
      "✅ Successfully added 5 fields: office_gsheet_andreas, office_type_gsheet_andreas, country_gsheet_andreas, region_gsheet_andreas, country\n",
      "\n",
      "🔍 Re-validating data after adding fields...\n",
      "⚠️ Re-validation failed: column 'SHAPE' not in DataFrameSchema {'id': <Schema Column(name=id, type=DataType(int64))>, 'npo': <Schema Column(name=npo, type=DataType(str))>, 'year': <Schema Column(name=year, type=DataType(int64))>, 'metric_id': <Schema Column(name=metric_id, type=DataType(float64))>, 'metric_code': <Schema Column(name=metric_code, type=DataType(str))>, 'metric_name': <Schema Column(name=metric_name, type=DataType(str))>, 'metric_description': <Schema Column(name=metric_description, type=DataType(str))>, 'unit': <Schema Column(name=unit, type=DataType(str))>, 'office': <Schema Column(name=office, type=DataType(str))>, 'home_office': <Schema Column(name=home_office, type=DataType(str))>, 'office_type': <Schema Column(name=office_type, type=DataType(str))>, 'region': <Schema Column(name=region, type=DataType(str))>, 'scenario': <Schema Column(name=scenario, type=DataType(str))>, 'value_us_consolidated': <Schema Column(name=value_us_consolidated, type=DataType(float64))>, 'value_us_consolidated_float': <Schema Column(name=value_us_consolidated_float, type=DataType(float64))>, 'value_non_consolidated': <Schema Column(name=value_non_consolidated, type=DataType(float64))>, 'value_non_consolidated_float': <Schema Column(name=value_non_consolidated_float, type=DataType(float64))>, 'currency': <Schema Column(name=currency, type=DataType(str))>, 'check_not_same_value_us': <Schema Column(name=check_not_same_value_us, type=DataType(int64))>, 'Presentation_Type': <Schema Column(name=Presentation_Type, type=DataType(str))>, 'year_time': <Schema Column(name=year_time, type=DataType(datetime64[ns]))>, 'office_type_fe': <Schema Column(name=office_type_fe, type=DataType(str))>, 'graph_fe': <Schema Column(name=graph_fe, type=DataType(str))>, 'office_gsheet_andreas': <Schema Column(name=office_gsheet_andreas, type=DataType(str))>, 'office_type_gsheet_andreas': <Schema Column(name=office_type_gsheet_andreas, type=DataType(str))>, 'country_gsheet_andreas': <Schema Column(name=country_gsheet_andreas, type=DataType(str))>, 'region_gsheet_andreas': <Schema Column(name=region_gsheet_andreas, type=DataType(str))>, 'country': <Schema Column(name=country, type=DataType(str))>}\n",
      "Note: You may need to refresh the layer reference manually\n"
     ]
    }
   ],
   "execution_count": 51
  },
  {
   "metadata": {
    "ExecuteTime": {
     "end_time": "2025-10-16T06:03:32.788903Z",
     "start_time": "2025-10-16T06:03:32.733938Z"
    }
   },
   "cell_type": "code",
   "source": [
    "sdf_revised = wrangling_sdf['new_updated_df_revised']\n",
    "sdf_revised.head()"
   ],
   "id": "f796d98ed3f792b9",
   "outputs": [
    {
     "data": {
      "text/plain": [
       "     id         npo  year  metric_id metric_code      metric_name    unit  \\\n",
       "0  5411  NPO FY2025  2025     1309.0      STA100  Total Headcount  Number   \n",
       "1  5412  NPO FY2025  2025     1309.0      STA100  Total Headcount  Number   \n",
       "2  5415  NPO FY2025  2025     1309.0      STA100  Total Headcount  Number   \n",
       "3  5416  NPO FY2025  2025     1309.0      STA100  Total Headcount  Number   \n",
       "4  5417  NPO FY2025  2025     1309.0      STA100  Total Headcount  Number   \n",
       "\n",
       "                               office      office_type  \\\n",
       "0  Associação Natureza Portugal (ANP)         Partners   \n",
       "1               Emirates Nature (UAE)         Partners   \n",
       "2                           WWF-Adria   Country Office   \n",
       "3                       WWF-Australia  National Office   \n",
       "4                         WWF-Austria  National Office   \n",
       "\n",
       "                    home_office  ...  year_time check_not_same_value_us  \\\n",
       "0               National Office  ... 2025-01-01                       0   \n",
       "1               National Office  ... 2025-01-01                       0   \n",
       "2  International Country Office  ... 2025-01-01                       0   \n",
       "3               National Office  ... 2025-01-01                       0   \n",
       "4               National Office  ... 2025-01-01                       0   \n",
       "\n",
       "   Presentation_Type  value_non_consolidated_float  \\\n",
       "0               None                          35.0   \n",
       "1               None                          44.0   \n",
       "2               None                          32.0   \n",
       "3               None                         152.0   \n",
       "4               None                          92.0   \n",
       "\n",
       "                office_gsheet_andreas             office_type_gsheet_andreas  \\\n",
       "0  Associação Natureza Portugal (ANP)  National Office / Partners / Partners   \n",
       "1               Emirates Nature (UAE)  National Office / Partners / Partners   \n",
       "2                           WWF-Adria                         Country Office   \n",
       "3                       WWF-Australia  National Office / Partners / Partners   \n",
       "4                         WWF-Austria  National Office / Partners / Partners   \n",
       "\n",
       "  country_gsheet_andreas region_gsheet_andreas               country  \\\n",
       "0               Portugal                Europe              Portugal   \n",
       "1   United Arab Emirates                Europe  United Arab Emirates   \n",
       "2                Croatia                Europe               Croatia   \n",
       "3              Australia          Asia/Pacific             Australia   \n",
       "4                Austria                Europe               Austria   \n",
       "\n",
       "                                               SHAPE  \n",
       "0  {\"rings\": [[[-1903841.70261145, 3871876.856023...  \n",
       "1  {\"rings\": [[[6007386.48824102, 2774950.4549245...  \n",
       "2  {\"rings\": [[[1881732.31590602, 5270374.7232683...  \n",
       "3  {\"rings\": [[[17686682.4831693, -7306052.691686...  \n",
       "4  {\"rings\": [[[1539950.53235224, 6236533.8426404...  \n",
       "\n",
       "[5 rows x 29 columns]"
      ],
      "text/html": [
       "<div>\n",
       "<style scoped>\n",
       "    .dataframe tbody tr th:only-of-type {\n",
       "        vertical-align: middle;\n",
       "    }\n",
       "\n",
       "    .dataframe tbody tr th {\n",
       "        vertical-align: top;\n",
       "    }\n",
       "\n",
       "    .dataframe thead th {\n",
       "        text-align: right;\n",
       "    }\n",
       "</style>\n",
       "<table border=\"1\" class=\"dataframe\">\n",
       "  <thead>\n",
       "    <tr style=\"text-align: right;\">\n",
       "      <th></th>\n",
       "      <th>id</th>\n",
       "      <th>npo</th>\n",
       "      <th>year</th>\n",
       "      <th>metric_id</th>\n",
       "      <th>metric_code</th>\n",
       "      <th>metric_name</th>\n",
       "      <th>unit</th>\n",
       "      <th>office</th>\n",
       "      <th>office_type</th>\n",
       "      <th>home_office</th>\n",
       "      <th>...</th>\n",
       "      <th>year_time</th>\n",
       "      <th>check_not_same_value_us</th>\n",
       "      <th>Presentation_Type</th>\n",
       "      <th>value_non_consolidated_float</th>\n",
       "      <th>office_gsheet_andreas</th>\n",
       "      <th>office_type_gsheet_andreas</th>\n",
       "      <th>country_gsheet_andreas</th>\n",
       "      <th>region_gsheet_andreas</th>\n",
       "      <th>country</th>\n",
       "      <th>SHAPE</th>\n",
       "    </tr>\n",
       "  </thead>\n",
       "  <tbody>\n",
       "    <tr>\n",
       "      <th>0</th>\n",
       "      <td>5411</td>\n",
       "      <td>NPO FY2025</td>\n",
       "      <td>2025</td>\n",
       "      <td>1309.0</td>\n",
       "      <td>STA100</td>\n",
       "      <td>Total Headcount</td>\n",
       "      <td>Number</td>\n",
       "      <td>Associação Natureza Portugal (ANP)</td>\n",
       "      <td>Partners</td>\n",
       "      <td>National Office</td>\n",
       "      <td>...</td>\n",
       "      <td>2025-01-01</td>\n",
       "      <td>0</td>\n",
       "      <td>None</td>\n",
       "      <td>35.0</td>\n",
       "      <td>Associação Natureza Portugal (ANP)</td>\n",
       "      <td>National Office / Partners / Partners</td>\n",
       "      <td>Portugal</td>\n",
       "      <td>Europe</td>\n",
       "      <td>Portugal</td>\n",
       "      <td>{\"rings\": [[[-1903841.70261145, 3871876.856023...</td>\n",
       "    </tr>\n",
       "    <tr>\n",
       "      <th>1</th>\n",
       "      <td>5412</td>\n",
       "      <td>NPO FY2025</td>\n",
       "      <td>2025</td>\n",
       "      <td>1309.0</td>\n",
       "      <td>STA100</td>\n",
       "      <td>Total Headcount</td>\n",
       "      <td>Number</td>\n",
       "      <td>Emirates Nature (UAE)</td>\n",
       "      <td>Partners</td>\n",
       "      <td>National Office</td>\n",
       "      <td>...</td>\n",
       "      <td>2025-01-01</td>\n",
       "      <td>0</td>\n",
       "      <td>None</td>\n",
       "      <td>44.0</td>\n",
       "      <td>Emirates Nature (UAE)</td>\n",
       "      <td>National Office / Partners / Partners</td>\n",
       "      <td>United Arab Emirates</td>\n",
       "      <td>Europe</td>\n",
       "      <td>United Arab Emirates</td>\n",
       "      <td>{\"rings\": [[[6007386.48824102, 2774950.4549245...</td>\n",
       "    </tr>\n",
       "    <tr>\n",
       "      <th>2</th>\n",
       "      <td>5415</td>\n",
       "      <td>NPO FY2025</td>\n",
       "      <td>2025</td>\n",
       "      <td>1309.0</td>\n",
       "      <td>STA100</td>\n",
       "      <td>Total Headcount</td>\n",
       "      <td>Number</td>\n",
       "      <td>WWF-Adria</td>\n",
       "      <td>Country Office</td>\n",
       "      <td>International Country Office</td>\n",
       "      <td>...</td>\n",
       "      <td>2025-01-01</td>\n",
       "      <td>0</td>\n",
       "      <td>None</td>\n",
       "      <td>32.0</td>\n",
       "      <td>WWF-Adria</td>\n",
       "      <td>Country Office</td>\n",
       "      <td>Croatia</td>\n",
       "      <td>Europe</td>\n",
       "      <td>Croatia</td>\n",
       "      <td>{\"rings\": [[[1881732.31590602, 5270374.7232683...</td>\n",
       "    </tr>\n",
       "    <tr>\n",
       "      <th>3</th>\n",
       "      <td>5416</td>\n",
       "      <td>NPO FY2025</td>\n",
       "      <td>2025</td>\n",
       "      <td>1309.0</td>\n",
       "      <td>STA100</td>\n",
       "      <td>Total Headcount</td>\n",
       "      <td>Number</td>\n",
       "      <td>WWF-Australia</td>\n",
       "      <td>National Office</td>\n",
       "      <td>National Office</td>\n",
       "      <td>...</td>\n",
       "      <td>2025-01-01</td>\n",
       "      <td>0</td>\n",
       "      <td>None</td>\n",
       "      <td>152.0</td>\n",
       "      <td>WWF-Australia</td>\n",
       "      <td>National Office / Partners / Partners</td>\n",
       "      <td>Australia</td>\n",
       "      <td>Asia/Pacific</td>\n",
       "      <td>Australia</td>\n",
       "      <td>{\"rings\": [[[17686682.4831693, -7306052.691686...</td>\n",
       "    </tr>\n",
       "    <tr>\n",
       "      <th>4</th>\n",
       "      <td>5417</td>\n",
       "      <td>NPO FY2025</td>\n",
       "      <td>2025</td>\n",
       "      <td>1309.0</td>\n",
       "      <td>STA100</td>\n",
       "      <td>Total Headcount</td>\n",
       "      <td>Number</td>\n",
       "      <td>WWF-Austria</td>\n",
       "      <td>National Office</td>\n",
       "      <td>National Office</td>\n",
       "      <td>...</td>\n",
       "      <td>2025-01-01</td>\n",
       "      <td>0</td>\n",
       "      <td>None</td>\n",
       "      <td>92.0</td>\n",
       "      <td>WWF-Austria</td>\n",
       "      <td>National Office / Partners / Partners</td>\n",
       "      <td>Austria</td>\n",
       "      <td>Europe</td>\n",
       "      <td>Austria</td>\n",
       "      <td>{\"rings\": [[[1539950.53235224, 6236533.8426404...</td>\n",
       "    </tr>\n",
       "  </tbody>\n",
       "</table>\n",
       "<p>5 rows × 29 columns</p>\n",
       "</div>"
      ]
     },
     "execution_count": 52,
     "metadata": {},
     "output_type": "execute_result"
    }
   ],
   "execution_count": 52
  },
  {
   "metadata": {
    "ExecuteTime": {
     "end_time": "2025-10-16T06:04:46.647786Z",
     "start_time": "2025-10-16T06:04:46.634574Z"
    }
   },
   "cell_type": "code",
   "source": "sdf_revised.info()",
   "id": "4a9e6965760c5f83",
   "outputs": [
    {
     "name": "stdout",
     "output_type": "stream",
     "text": [
      "<class 'pandas.core.frame.DataFrame'>\n",
      "Index: 528 entries, 0 to 527\n",
      "Data columns (total 29 columns):\n",
      " #   Column                        Non-Null Count  Dtype         \n",
      "---  ------                        --------------  -----         \n",
      " 0   id                            528 non-null    int32         \n",
      " 1   npo                           528 non-null    object        \n",
      " 2   year                          528 non-null    int64         \n",
      " 3   metric_id                     528 non-null    float64       \n",
      " 4   metric_code                   528 non-null    object        \n",
      " 5   metric_name                   528 non-null    object        \n",
      " 6   unit                          528 non-null    object        \n",
      " 7   office                        528 non-null    object        \n",
      " 8   office_type                   528 non-null    object        \n",
      " 9   home_office                   528 non-null    object        \n",
      " 10  region                        528 non-null    object        \n",
      " 11  scenario                      528 non-null    object        \n",
      " 12  value_us_consolidated         528 non-null    float64       \n",
      " 13  value_non_consolidated        528 non-null    float64       \n",
      " 14  currency                      0 non-null      object        \n",
      " 15  metric_description            528 non-null    object        \n",
      " 16  office_type_fe                528 non-null    object        \n",
      " 17  graph_fe                      528 non-null    object        \n",
      " 18  value_us_consolidated_float   528 non-null    float64       \n",
      " 19  year_time                     528 non-null    datetime64[ns]\n",
      " 20  check_not_same_value_us       528 non-null    int32         \n",
      " 21  Presentation_Type             0 non-null      object        \n",
      " 22  value_non_consolidated_float  528 non-null    float64       \n",
      " 23  office_gsheet_andreas         528 non-null    object        \n",
      " 24  office_type_gsheet_andreas    528 non-null    object        \n",
      " 25  country_gsheet_andreas        528 non-null    object        \n",
      " 26  region_gsheet_andreas         528 non-null    object        \n",
      " 27  country                       528 non-null    object        \n",
      " 28  SHAPE                         528 non-null    geometry      \n",
      "dtypes: datetime64[ns](1), float64(5), geometry(1), int32(2), int64(1), object(19)\n",
      "memory usage: 119.6+ KB\n"
     ]
    }
   ],
   "execution_count": 53
  },
  {
   "metadata": {
    "ExecuteTime": {
     "end_time": "2025-10-16T06:05:46.159717Z",
     "start_time": "2025-10-16T06:05:46.153212Z"
    }
   },
   "cell_type": "code",
   "source": [
    "from arcgis.features import GeoAccessor, GeoSeriesAccessor\n",
    "import math\n",
    "\n",
    "def append_sdf_to_feature_layer(feature_layer, sdf, batch_size=400):\n",
    "    \"\"\"\n",
    "    Appends data from a Spatially Enabled DataFrame (sdf)\n",
    "    to a target ArcGIS Feature Layer, in safe batches.\n",
    "\n",
    "    Args:\n",
    "        feature_layer: arcgis.features.FeatureLayer\n",
    "            Target layer to upload features to.\n",
    "        sdf: Spatially Enabled DataFrame\n",
    "            Must have a geometry column named 'SHAPE'.\n",
    "        batch_size: int, optional\n",
    "            Number of records per batch (default=400).\n",
    "    \"\"\"\n",
    "    # --- Ensure spatial geometry is active ---\n",
    "    if not hasattr(sdf, \"spatial\"):\n",
    "        sdf.spatial.set_geometry(\"SHAPE\")\n",
    "    else:\n",
    "        # just make sure geometry is set properly\n",
    "        if sdf.spatial.name != \"SHAPE\":\n",
    "            sdf.spatial.set_geometry(\"SHAPE\")\n",
    "\n",
    "    # --- Confirm valid geometries ---\n",
    "    if sdf[\"SHAPE\"].isnull().any():\n",
    "        raise ValueError(\"Some records have NULL geometry — check 'SHAPE' column before upload.\")\n",
    "\n",
    "    # --- Convert to features ---\n",
    "    features = sdf.spatial.to_featureset().features\n",
    "\n",
    "    # --- Split into batches ---\n",
    "    total = len(features)\n",
    "    n_batches = math.ceil(total / batch_size)\n",
    "\n",
    "    print(f\"📦 Preparing to upload {total} features in {n_batches} batches...\")\n",
    "\n",
    "    # --- Upload loop ---\n",
    "    success, failed = 0, 0\n",
    "    for i in range(n_batches):\n",
    "        start = i * batch_size\n",
    "        end = min(start + batch_size, total)\n",
    "        batch = features[start:end]\n",
    "\n",
    "        try:\n",
    "            res = feature_layer.edit_features(adds=batch)\n",
    "            adds = res.get(\"addResults\", [])\n",
    "            if all(r.get(\"success\") for r in adds):\n",
    "                success += len(adds)\n",
    "                print(f\"✅ Batch {i+1}/{n_batches} uploaded ({len(adds)} features).\")\n",
    "            else:\n",
    "                failed += len(adds)\n",
    "                print(f\"⚠️ Batch {i+1}/{n_batches} failed partially.\")\n",
    "        except Exception as e:\n",
    "            print(f\"❌ Batch {i+1}/{n_batches} failed: {e}\")\n",
    "            failed += len(batch)\n",
    "\n",
    "    print(f\"\\n🎯 Upload complete: {success} succeeded, {failed} failed.\")"
   ],
   "id": "1c99d0c19a569b84",
   "outputs": [],
   "execution_count": 54
  },
  {
   "metadata": {
    "ExecuteTime": {
     "end_time": "2025-10-16T06:07:27.065800Z",
     "start_time": "2025-10-16T06:07:27.062366Z"
    }
   },
   "cell_type": "code",
   "source": [
    "target_layer\n",
    "# layer_name_flayer"
   ],
   "id": "aebd919f2b8a4b",
   "outputs": [
    {
     "data": {
      "text/plain": [
       "<FeatureLayer url:\"https://services1.arcgis.com/RTK5Unh1Z71JKIiR/arcgis/rest/services/GAR/FeatureServer/15\">"
      ]
     },
     "execution_count": 59,
     "metadata": {},
     "output_type": "execute_result"
    }
   ],
   "execution_count": 59
  },
  {
   "metadata": {
    "ExecuteTime": {
     "end_time": "2025-10-16T06:10:19.285570Z",
     "start_time": "2025-10-16T06:07:53.010952Z"
    }
   },
   "cell_type": "code",
   "source": [
    "### UPDATE APPEND\n",
    "append_sdf_to_feature_layer(target_layer, sdf, batch_size=100)"
   ],
   "id": "c4a9512a53f2b456",
   "outputs": [
    {
     "name": "stdout",
     "output_type": "stream",
     "text": [
      "📦 Preparing to upload 528 features in 6 batches...\n",
      "✅ Batch 1/6 uploaded (100 features).\n",
      "✅ Batch 2/6 uploaded (100 features).\n",
      "✅ Batch 3/6 uploaded (100 features).\n",
      "✅ Batch 4/6 uploaded (100 features).\n",
      "✅ Batch 5/6 uploaded (100 features).\n",
      "✅ Batch 6/6 uploaded (28 features).\n",
      "\n",
      "🎯 Upload complete: 528 succeeded, 0 failed.\n"
     ]
    }
   ],
   "execution_count": 60
  },
  {
   "metadata": {},
   "cell_type": "code",
   "outputs": [],
   "execution_count": null,
   "source": "",
   "id": "7e615fe266b10121"
  }
 ],
 "metadata": {
  "kernelspec": {
   "display_name": "base",
   "language": "python",
   "name": "python3"
  },
  "language_info": {
   "codemirror_mode": {
    "name": "ipython",
    "version": 3
   },
   "file_extension": ".py",
   "mimetype": "text/x-python",
   "name": "python",
   "nbconvert_exporter": "python",
   "pygments_lexer": "ipython3",
   "version": "3.12.11"
  }
 },
 "nbformat": 4,
 "nbformat_minor": 5
}
